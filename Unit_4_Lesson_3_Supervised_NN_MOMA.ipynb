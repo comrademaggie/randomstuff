{
  "nbformat": 4,
  "nbformat_minor": 0,
  "metadata": {
    "colab": {
      "name": "Unit 4 Lesson 3 - Supervised NN MOMA.ipynb",
      "version": "0.3.2",
      "provenance": [],
      "include_colab_link": true
    },
    "kernelspec": {
      "name": "python3",
      "display_name": "Python 3"
    },
    "accelerator": "GPU"
  },
  "cells": [
    {
      "cell_type": "markdown",
      "metadata": {
        "id": "view-in-github",
        "colab_type": "text"
      },
      "source": [
        "<a href=\"https://colab.research.google.com/github/comrademaggie/randomstuff/blob/master/Unit_4_Lesson_3_Supervised_NN_MOMA.ipynb\" target=\"_parent\"><img src=\"https://colab.research.google.com/assets/colab-badge.svg\" alt=\"Open In Colab\"/></a>"
      ]
    },
    {
      "cell_type": "code",
      "metadata": {
        "id": "UxAoXbBNiTpy",
        "colab_type": "code",
        "colab": {}
      },
      "source": [
        "import numpy as np\n",
        "import pandas as pd\n",
        "import matplotlib.pyplot as plt\n",
        "import seaborn as sns\n",
        "%matplotlib inline\n",
        "import warnings\n",
        "warnings.filterwarnings(\"ignore\")"
      ],
      "execution_count": 0,
      "outputs": []
    },
    {
      "cell_type": "code",
      "metadata": {
        "id": "SRvyfoGhiY4b",
        "colab_type": "code",
        "colab": {}
      },
      "source": [
        "artworks = pd.read_csv('https://media.githubusercontent.com/media/MuseumofModernArt/collection/master/Artworks.csv')"
      ],
      "execution_count": 0,
      "outputs": []
    },
    {
      "cell_type": "code",
      "metadata": {
        "id": "bvQgIZ3kqrai",
        "colab_type": "code",
        "outputId": "84c71c86-f23d-4907-b1a3-6c3a9c144198",
        "colab": {
          "base_uri": "https://localhost:8080/",
          "height": 151
        }
      },
      "source": [
        "artworks.columns"
      ],
      "execution_count": 0,
      "outputs": [
        {
          "output_type": "execute_result",
          "data": {
            "text/plain": [
              "Index(['Title', 'Artist', 'ConstituentID', 'ArtistBio', 'Nationality',\n",
              "       'BeginDate', 'EndDate', 'Gender', 'Date', 'Medium', 'Dimensions',\n",
              "       'CreditLine', 'AccessionNumber', 'Classification', 'Department',\n",
              "       'DateAcquired', 'Cataloged', 'ObjectID', 'URL', 'ThumbnailURL',\n",
              "       'Circumference (cm)', 'Depth (cm)', 'Diameter (cm)', 'Height (cm)',\n",
              "       'Length (cm)', 'Weight (kg)', 'Width (cm)', 'Seat Height (cm)',\n",
              "       'Duration (sec.)'],\n",
              "      dtype='object')"
            ]
          },
          "metadata": {
            "tags": []
          },
          "execution_count": 5
        }
      ]
    },
    {
      "cell_type": "code",
      "metadata": {
        "id": "r1CPzz2kq7HQ",
        "colab_type": "code",
        "outputId": "f308caf5-ff69-4e94-e470-9eaf41d8373e",
        "colab": {
          "base_uri": "https://localhost:8080/",
          "height": 597
        }
      },
      "source": [
        "artworks.head()"
      ],
      "execution_count": 0,
      "outputs": [
        {
          "output_type": "execute_result",
          "data": {
            "text/html": [
              "<div>\n",
              "<style scoped>\n",
              "    .dataframe tbody tr th:only-of-type {\n",
              "        vertical-align: middle;\n",
              "    }\n",
              "\n",
              "    .dataframe tbody tr th {\n",
              "        vertical-align: top;\n",
              "    }\n",
              "\n",
              "    .dataframe thead th {\n",
              "        text-align: right;\n",
              "    }\n",
              "</style>\n",
              "<table border=\"1\" class=\"dataframe\">\n",
              "  <thead>\n",
              "    <tr style=\"text-align: right;\">\n",
              "      <th></th>\n",
              "      <th>Title</th>\n",
              "      <th>Artist</th>\n",
              "      <th>ConstituentID</th>\n",
              "      <th>ArtistBio</th>\n",
              "      <th>Nationality</th>\n",
              "      <th>BeginDate</th>\n",
              "      <th>EndDate</th>\n",
              "      <th>Gender</th>\n",
              "      <th>Date</th>\n",
              "      <th>Medium</th>\n",
              "      <th>...</th>\n",
              "      <th>ThumbnailURL</th>\n",
              "      <th>Circumference (cm)</th>\n",
              "      <th>Depth (cm)</th>\n",
              "      <th>Diameter (cm)</th>\n",
              "      <th>Height (cm)</th>\n",
              "      <th>Length (cm)</th>\n",
              "      <th>Weight (kg)</th>\n",
              "      <th>Width (cm)</th>\n",
              "      <th>Seat Height (cm)</th>\n",
              "      <th>Duration (sec.)</th>\n",
              "    </tr>\n",
              "  </thead>\n",
              "  <tbody>\n",
              "    <tr>\n",
              "      <th>0</th>\n",
              "      <td>Ferdinandsbrücke Project, Vienna, Austria, Ele...</td>\n",
              "      <td>Otto Wagner</td>\n",
              "      <td>6210</td>\n",
              "      <td>(Austrian, 1841–1918)</td>\n",
              "      <td>(Austrian)</td>\n",
              "      <td>(1841)</td>\n",
              "      <td>(1918)</td>\n",
              "      <td>(Male)</td>\n",
              "      <td>1896</td>\n",
              "      <td>Ink and cut-and-pasted painted pages on paper</td>\n",
              "      <td>...</td>\n",
              "      <td>http://www.moma.org/media/W1siZiIsIjU5NDA1Il0s...</td>\n",
              "      <td>NaN</td>\n",
              "      <td>NaN</td>\n",
              "      <td>NaN</td>\n",
              "      <td>48.6000</td>\n",
              "      <td>NaN</td>\n",
              "      <td>NaN</td>\n",
              "      <td>168.9000</td>\n",
              "      <td>NaN</td>\n",
              "      <td>NaN</td>\n",
              "    </tr>\n",
              "    <tr>\n",
              "      <th>1</th>\n",
              "      <td>City of Music, National Superior Conservatory ...</td>\n",
              "      <td>Christian de Portzamparc</td>\n",
              "      <td>7470</td>\n",
              "      <td>(French, born 1944)</td>\n",
              "      <td>(French)</td>\n",
              "      <td>(1944)</td>\n",
              "      <td>(0)</td>\n",
              "      <td>(Male)</td>\n",
              "      <td>1987</td>\n",
              "      <td>Paint and colored pencil on print</td>\n",
              "      <td>...</td>\n",
              "      <td>http://www.moma.org/media/W1siZiIsIjk3Il0sWyJw...</td>\n",
              "      <td>NaN</td>\n",
              "      <td>NaN</td>\n",
              "      <td>NaN</td>\n",
              "      <td>40.6401</td>\n",
              "      <td>NaN</td>\n",
              "      <td>NaN</td>\n",
              "      <td>29.8451</td>\n",
              "      <td>NaN</td>\n",
              "      <td>NaN</td>\n",
              "    </tr>\n",
              "    <tr>\n",
              "      <th>2</th>\n",
              "      <td>Villa near Vienna Project, Outside Vienna, Aus...</td>\n",
              "      <td>Emil Hoppe</td>\n",
              "      <td>7605</td>\n",
              "      <td>(Austrian, 1876–1957)</td>\n",
              "      <td>(Austrian)</td>\n",
              "      <td>(1876)</td>\n",
              "      <td>(1957)</td>\n",
              "      <td>(Male)</td>\n",
              "      <td>1903</td>\n",
              "      <td>Graphite, pen, color pencil, ink, and gouache ...</td>\n",
              "      <td>...</td>\n",
              "      <td>http://www.moma.org/media/W1siZiIsIjk4Il0sWyJw...</td>\n",
              "      <td>NaN</td>\n",
              "      <td>NaN</td>\n",
              "      <td>NaN</td>\n",
              "      <td>34.3000</td>\n",
              "      <td>NaN</td>\n",
              "      <td>NaN</td>\n",
              "      <td>31.8000</td>\n",
              "      <td>NaN</td>\n",
              "      <td>NaN</td>\n",
              "    </tr>\n",
              "    <tr>\n",
              "      <th>3</th>\n",
              "      <td>The Manhattan Transcripts Project, New York, N...</td>\n",
              "      <td>Bernard Tschumi</td>\n",
              "      <td>7056</td>\n",
              "      <td>(French and Swiss, born Switzerland 1944)</td>\n",
              "      <td>()</td>\n",
              "      <td>(1944)</td>\n",
              "      <td>(0)</td>\n",
              "      <td>(Male)</td>\n",
              "      <td>1980</td>\n",
              "      <td>Photographic reproduction with colored synthet...</td>\n",
              "      <td>...</td>\n",
              "      <td>http://www.moma.org/media/W1siZiIsIjEyNCJdLFsi...</td>\n",
              "      <td>NaN</td>\n",
              "      <td>NaN</td>\n",
              "      <td>NaN</td>\n",
              "      <td>50.8000</td>\n",
              "      <td>NaN</td>\n",
              "      <td>NaN</td>\n",
              "      <td>50.8000</td>\n",
              "      <td>NaN</td>\n",
              "      <td>NaN</td>\n",
              "    </tr>\n",
              "    <tr>\n",
              "      <th>4</th>\n",
              "      <td>Villa, project, outside Vienna, Austria, Exter...</td>\n",
              "      <td>Emil Hoppe</td>\n",
              "      <td>7605</td>\n",
              "      <td>(Austrian, 1876–1957)</td>\n",
              "      <td>(Austrian)</td>\n",
              "      <td>(1876)</td>\n",
              "      <td>(1957)</td>\n",
              "      <td>(Male)</td>\n",
              "      <td>1903</td>\n",
              "      <td>Graphite, color pencil, ink, and gouache on tr...</td>\n",
              "      <td>...</td>\n",
              "      <td>http://www.moma.org/media/W1siZiIsIjEyNiJdLFsi...</td>\n",
              "      <td>NaN</td>\n",
              "      <td>NaN</td>\n",
              "      <td>NaN</td>\n",
              "      <td>38.4000</td>\n",
              "      <td>NaN</td>\n",
              "      <td>NaN</td>\n",
              "      <td>19.1000</td>\n",
              "      <td>NaN</td>\n",
              "      <td>NaN</td>\n",
              "    </tr>\n",
              "  </tbody>\n",
              "</table>\n",
              "<p>5 rows × 29 columns</p>\n",
              "</div>"
            ],
            "text/plain": [
              "                                               Title  \\\n",
              "0  Ferdinandsbrücke Project, Vienna, Austria, Ele...   \n",
              "1  City of Music, National Superior Conservatory ...   \n",
              "2  Villa near Vienna Project, Outside Vienna, Aus...   \n",
              "3  The Manhattan Transcripts Project, New York, N...   \n",
              "4  Villa, project, outside Vienna, Austria, Exter...   \n",
              "\n",
              "                     Artist ConstituentID  \\\n",
              "0               Otto Wagner          6210   \n",
              "1  Christian de Portzamparc          7470   \n",
              "2                Emil Hoppe          7605   \n",
              "3           Bernard Tschumi          7056   \n",
              "4                Emil Hoppe          7605   \n",
              "\n",
              "                                   ArtistBio Nationality BeginDate EndDate  \\\n",
              "0                      (Austrian, 1841–1918)  (Austrian)    (1841)  (1918)   \n",
              "1                        (French, born 1944)    (French)    (1944)     (0)   \n",
              "2                      (Austrian, 1876–1957)  (Austrian)    (1876)  (1957)   \n",
              "3  (French and Swiss, born Switzerland 1944)          ()    (1944)     (0)   \n",
              "4                      (Austrian, 1876–1957)  (Austrian)    (1876)  (1957)   \n",
              "\n",
              "   Gender  Date                                             Medium  \\\n",
              "0  (Male)  1896      Ink and cut-and-pasted painted pages on paper   \n",
              "1  (Male)  1987                  Paint and colored pencil on print   \n",
              "2  (Male)  1903  Graphite, pen, color pencil, ink, and gouache ...   \n",
              "3  (Male)  1980  Photographic reproduction with colored synthet...   \n",
              "4  (Male)  1903  Graphite, color pencil, ink, and gouache on tr...   \n",
              "\n",
              "        ...                                             ThumbnailURL  \\\n",
              "0       ...        http://www.moma.org/media/W1siZiIsIjU5NDA1Il0s...   \n",
              "1       ...        http://www.moma.org/media/W1siZiIsIjk3Il0sWyJw...   \n",
              "2       ...        http://www.moma.org/media/W1siZiIsIjk4Il0sWyJw...   \n",
              "3       ...        http://www.moma.org/media/W1siZiIsIjEyNCJdLFsi...   \n",
              "4       ...        http://www.moma.org/media/W1siZiIsIjEyNiJdLFsi...   \n",
              "\n",
              "  Circumference (cm) Depth (cm) Diameter (cm) Height (cm) Length (cm)  \\\n",
              "0                NaN        NaN           NaN     48.6000         NaN   \n",
              "1                NaN        NaN           NaN     40.6401         NaN   \n",
              "2                NaN        NaN           NaN     34.3000         NaN   \n",
              "3                NaN        NaN           NaN     50.8000         NaN   \n",
              "4                NaN        NaN           NaN     38.4000         NaN   \n",
              "\n",
              "  Weight (kg)  Width (cm) Seat Height (cm) Duration (sec.)  \n",
              "0         NaN    168.9000              NaN             NaN  \n",
              "1         NaN     29.8451              NaN             NaN  \n",
              "2         NaN     31.8000              NaN             NaN  \n",
              "3         NaN     50.8000              NaN             NaN  \n",
              "4         NaN     19.1000              NaN             NaN  \n",
              "\n",
              "[5 rows x 29 columns]"
            ]
          },
          "metadata": {
            "tags": []
          },
          "execution_count": 6
        }
      ]
    },
    {
      "cell_type": "code",
      "metadata": {
        "id": "nkI7xRsqR6TH",
        "colab_type": "code",
        "outputId": "ab92589a-d61c-4c43-a245-e7199091fa07",
        "colab": {
          "base_uri": "https://localhost:8080/",
          "height": 492
        }
      },
      "source": [
        "fig, ax = plt.subplots(2,2,figsize=(15,7))\n",
        "plt.subplot(2,2,1)\n",
        "sns.countplot(artworks.Gender)\n",
        "\n",
        "plt.subplot(2,2,2)\n",
        "sns.countplot(artworks.URL)\n",
        "\n",
        "plt.subplot(2,2,3)\n",
        "sns.countplot(artworks.ThumbnailURL)\n",
        "\n",
        "plt.subplot(2,2,4)\n",
        "sns.countplot(artworks.YearAcquired)\n"
      ],
      "execution_count": 0,
      "outputs": [
        {
          "output_type": "stream",
          "text": [
            "/usr/local/lib/python3.6/dist-packages/seaborn/categorical.py:1428: FutureWarning: remove_na is deprecated and is a private function. Do not use.\n",
            "  stat_data = remove_na(group_data)\n"
          ],
          "name": "stderr"
        },
        {
          "output_type": "execute_result",
          "data": {
            "text/plain": [
              "<matplotlib.axes._subplots.AxesSubplot at 0x7f63c98d9748>"
            ]
          },
          "metadata": {
            "tags": []
          },
          "execution_count": 17
        },
        {
          "output_type": "display_data",
          "data": {
            "image/png": "[encoded data removed]",
            "text/plain": [
              "<Figure size 1080x504 with 4 Axes>"
            ]
          },
          "metadata": {
            "tags": []
          }
        }
      ]
    },
    {
      "cell_type": "code",
      "metadata": {
        "id": "x-7vQGVWzs26",
        "colab_type": "code",
        "outputId": "a9726c26-bedc-49ff-a15e-a2fa5a81bb97",
        "colab": {
          "base_uri": "https://localhost:8080/",
          "height": 314
        }
      },
      "source": [
        "artworks.groupby('Department').count()[['Title']]"
      ],
      "execution_count": 0,
      "outputs": [
        {
          "output_type": "execute_result",
          "data": {
            "text/html": [
              "<div>\n",
              "<style scoped>\n",
              "    .dataframe tbody tr th:only-of-type {\n",
              "        vertical-align: middle;\n",
              "    }\n",
              "\n",
              "    .dataframe tbody tr th {\n",
              "        vertical-align: top;\n",
              "    }\n",
              "\n",
              "    .dataframe thead th {\n",
              "        text-align: right;\n",
              "    }\n",
              "</style>\n",
              "<table border=\"1\" class=\"dataframe\">\n",
              "  <thead>\n",
              "    <tr style=\"text-align: right;\">\n",
              "      <th></th>\n",
              "      <th>Title</th>\n",
              "    </tr>\n",
              "    <tr>\n",
              "      <th>Department</th>\n",
              "      <th></th>\n",
              "    </tr>\n",
              "  </thead>\n",
              "  <tbody>\n",
              "    <tr>\n",
              "      <th>Architecture &amp; Design</th>\n",
              "      <td>19515</td>\n",
              "    </tr>\n",
              "    <tr>\n",
              "      <th>Architecture &amp; Design - Image Archive</th>\n",
              "      <td>28</td>\n",
              "    </tr>\n",
              "    <tr>\n",
              "      <th>Drawings &amp; Prints</th>\n",
              "      <td>74793</td>\n",
              "    </tr>\n",
              "    <tr>\n",
              "      <th>Film</th>\n",
              "      <td>4021</td>\n",
              "    </tr>\n",
              "    <tr>\n",
              "      <th>Fluxus Collection</th>\n",
              "      <td>1999</td>\n",
              "    </tr>\n",
              "    <tr>\n",
              "      <th>Media and Performance</th>\n",
              "      <td>2793</td>\n",
              "    </tr>\n",
              "    <tr>\n",
              "      <th>Painting &amp; Sculpture</th>\n",
              "      <td>3872</td>\n",
              "    </tr>\n",
              "    <tr>\n",
              "      <th>Photography</th>\n",
              "      <td>30690</td>\n",
              "    </tr>\n",
              "  </tbody>\n",
              "</table>\n",
              "</div>"
            ],
            "text/plain": [
              "                                       Title\n",
              "Department                                  \n",
              "Architecture & Design                  19515\n",
              "Architecture & Design - Image Archive     28\n",
              "Drawings & Prints                      74793\n",
              "Film                                    4021\n",
              "Fluxus Collection                       1999\n",
              "Media and Performance                   2793\n",
              "Painting & Sculpture                    3872\n",
              "Photography                            30690"
            ]
          },
          "metadata": {
            "tags": []
          },
          "execution_count": 3
        }
      ]
    },
    {
      "cell_type": "code",
      "metadata": {
        "id": "dITXcjXECOw0",
        "colab_type": "code",
        "outputId": "28281b4c-2cbe-4d24-8bc8-26c9948e5ca7",
        "colab": {
          "base_uri": "https://localhost:8080/",
          "height": 284
        }
      },
      "source": [
        "artworks.groupby('Artist').count()[['Title']].describe()"
      ],
      "execution_count": 0,
      "outputs": [
        {
          "output_type": "execute_result",
          "data": {
            "text/html": [
              "<div>\n",
              "<style scoped>\n",
              "    .dataframe tbody tr th:only-of-type {\n",
              "        vertical-align: middle;\n",
              "    }\n",
              "\n",
              "    .dataframe tbody tr th {\n",
              "        vertical-align: top;\n",
              "    }\n",
              "\n",
              "    .dataframe thead th {\n",
              "        text-align: right;\n",
              "    }\n",
              "</style>\n",
              "<table border=\"1\" class=\"dataframe\">\n",
              "  <thead>\n",
              "    <tr style=\"text-align: right;\">\n",
              "      <th></th>\n",
              "      <th>Title</th>\n",
              "    </tr>\n",
              "  </thead>\n",
              "  <tbody>\n",
              "    <tr>\n",
              "      <th>count</th>\n",
              "      <td>14467.000000</td>\n",
              "    </tr>\n",
              "    <tr>\n",
              "      <th>mean</th>\n",
              "      <td>9.411903</td>\n",
              "    </tr>\n",
              "    <tr>\n",
              "      <th>std</th>\n",
              "      <td>70.235638</td>\n",
              "    </tr>\n",
              "    <tr>\n",
              "      <th>min</th>\n",
              "      <td>0.000000</td>\n",
              "    </tr>\n",
              "    <tr>\n",
              "      <th>25%</th>\n",
              "      <td>1.000000</td>\n",
              "    </tr>\n",
              "    <tr>\n",
              "      <th>50%</th>\n",
              "      <td>1.000000</td>\n",
              "    </tr>\n",
              "    <tr>\n",
              "      <th>75%</th>\n",
              "      <td>4.000000</td>\n",
              "    </tr>\n",
              "    <tr>\n",
              "      <th>max</th>\n",
              "      <td>5050.000000</td>\n",
              "    </tr>\n",
              "  </tbody>\n",
              "</table>\n",
              "</div>"
            ],
            "text/plain": [
              "              Title\n",
              "count  14467.000000\n",
              "mean       9.411903\n",
              "std       70.235638\n",
              "min        0.000000\n",
              "25%        1.000000\n",
              "50%        1.000000\n",
              "75%        4.000000\n",
              "max     5050.000000"
            ]
          },
          "metadata": {
            "tags": []
          },
          "execution_count": 3
        }
      ]
    },
    {
      "cell_type": "code",
      "metadata": {
        "id": "2ffOe0JEC2Tl",
        "colab_type": "code",
        "outputId": "fb791bd9-f0e0-42ac-e88e-f1aa83cb72ec",
        "colab": {
          "base_uri": "https://localhost:8080/",
          "height": 34
        }
      },
      "source": [
        "#only 3,256 artists make up 119,423 of the collection, or 87% of the data\n",
        "artist_df = artworks.groupby('Artist').count()[['Title']]\n",
        "count_artists = artist_df.loc[artist_df.Title>4].count()\n",
        "collection_artists = artist_df.loc[artist_df.Title>4].sum()\n",
        "perc_collection = collection_artists/artworks.Title.count()*100\n",
        "\n",
        "print('{}% of total MOMA collection comes from {} artists'.format(round(perc_collection[-1],2), count_artists[-1]))\n"
      ],
      "execution_count": 0,
      "outputs": [
        {
          "output_type": "stream",
          "text": [
            "86.8% of total MOMA collection comes from 3257 artists\n"
          ],
          "name": "stdout"
        }
      ]
    },
    {
      "cell_type": "code",
      "metadata": {
        "id": "w7JI0Dd_jHDQ",
        "colab_type": "code",
        "outputId": "b7edcabf-3b2c-4f61-e634-af47193c3753",
        "colab": {
          "base_uri": "https://localhost:8080/",
          "height": 482
        }
      },
      "source": [
        "#confirming we can drop artists with less than 4 titles as their artworks are distributed across all departments and not concentrated in a single one\n",
        "artists_few = artist_df.loc[artist_df.Title<4]\n",
        "artist_four_department = pd.merge(artists_few, artworks[['Artist', 'Department']], on='Artist', how='left')\n",
        "sns.countplot(artist_four_department['Department'])\n",
        "plt.xticks(rotation='vertical')"
      ],
      "execution_count": 0,
      "outputs": [
        {
          "output_type": "execute_result",
          "data": {
            "text/plain": [
              "(array([0, 1, 2, 3, 4, 5, 6, 7]), <a list of 8 Text xticklabel objects>)"
            ]
          },
          "metadata": {
            "tags": []
          },
          "execution_count": 5
        },
        {
          "output_type": "display_data",
          "data": {
            "image/png": "[encoded data removed]",
            "text/plain": [
              "<Figure size 432x288 with 1 Axes>"
            ]
          },
          "metadata": {
            "tags": []
          }
        }
      ]
    },
    {
      "cell_type": "code",
      "metadata": {
        "id": "44tkoSZOic8D",
        "colab_type": "code",
        "outputId": "3559dcc8-52c0-4735-9e86-20cc8d37df1c",
        "colab": {
          "base_uri": "https://localhost:8080/",
          "height": 373
        }
      },
      "source": [
        "artworks.groupby('Artist').count()[['YearAcquired']].sort_values(by='YearAcquired', ascending=False).head(10)"
      ],
      "execution_count": 0,
      "outputs": [
        {
          "output_type": "execute_result",
          "data": {
            "text/html": [
              "<div>\n",
              "<style scoped>\n",
              "    .dataframe tbody tr th:only-of-type {\n",
              "        vertical-align: middle;\n",
              "    }\n",
              "\n",
              "    .dataframe tbody tr th {\n",
              "        vertical-align: top;\n",
              "    }\n",
              "\n",
              "    .dataframe thead th {\n",
              "        text-align: right;\n",
              "    }\n",
              "</style>\n",
              "<table border=\"1\" class=\"dataframe\">\n",
              "  <thead>\n",
              "    <tr style=\"text-align: right;\">\n",
              "      <th></th>\n",
              "      <th>YearAcquired</th>\n",
              "    </tr>\n",
              "    <tr>\n",
              "      <th>Artist</th>\n",
              "      <th></th>\n",
              "    </tr>\n",
              "  </thead>\n",
              "  <tbody>\n",
              "    <tr>\n",
              "      <th>Multiple_Artists</th>\n",
              "      <td>5706</td>\n",
              "    </tr>\n",
              "    <tr>\n",
              "      <th>Louise Bourgeois</th>\n",
              "      <td>3230</td>\n",
              "    </tr>\n",
              "    <tr>\n",
              "      <th>Unknown photographer</th>\n",
              "      <td>2127</td>\n",
              "    </tr>\n",
              "    <tr>\n",
              "      <th>Lee Friedlander</th>\n",
              "      <td>1316</td>\n",
              "    </tr>\n",
              "    <tr>\n",
              "      <th>Pablo Picasso</th>\n",
              "      <td>1295</td>\n",
              "    </tr>\n",
              "    <tr>\n",
              "      <th>Marc Chagall</th>\n",
              "      <td>1151</td>\n",
              "    </tr>\n",
              "    <tr>\n",
              "      <th>Henri Matisse</th>\n",
              "      <td>1041</td>\n",
              "    </tr>\n",
              "    <tr>\n",
              "      <th>Jean Dubuffet</th>\n",
              "      <td>1021</td>\n",
              "    </tr>\n",
              "    <tr>\n",
              "      <th>Ludwig Mies van der Rohe</th>\n",
              "      <td>936</td>\n",
              "    </tr>\n",
              "    <tr>\n",
              "      <th>Pierre Bonnard</th>\n",
              "      <td>890</td>\n",
              "    </tr>\n",
              "  </tbody>\n",
              "</table>\n",
              "</div>"
            ],
            "text/plain": [
              "                          YearAcquired\n",
              "Artist                                \n",
              "Multiple_Artists                  5706\n",
              "Louise Bourgeois                  3230\n",
              "Unknown photographer              2127\n",
              "Lee Friedlander                   1316\n",
              "Pablo Picasso                     1295\n",
              "Marc Chagall                      1151\n",
              "Henri Matisse                     1041\n",
              "Jean Dubuffet                     1021\n",
              "Ludwig Mies van der Rohe           936\n",
              "Pierre Bonnard                     890"
            ]
          },
          "metadata": {
            "tags": []
          },
          "execution_count": 80
        }
      ]
    },
    {
      "cell_type": "code",
      "metadata": {
        "id": "5uIahZbmrHKf",
        "colab_type": "code",
        "outputId": "4129c097-5293-4cd2-870a-eb5e633e1cb2",
        "colab": {
          "base_uri": "https://localhost:8080/",
          "height": 588
        }
      },
      "source": [
        "artworks.info()"
      ],
      "execution_count": 0,
      "outputs": [
        {
          "output_type": "stream",
          "text": [
            "<class 'pandas.core.frame.DataFrame'>\n",
            "RangeIndex: 137643 entries, 0 to 137642\n",
            "Data columns (total 29 columns):\n",
            "Title                 137604 non-null object\n",
            "Artist                136176 non-null object\n",
            "ConstituentID         136176 non-null object\n",
            "ArtistBio             132081 non-null object\n",
            "Nationality           136176 non-null object\n",
            "BeginDate             136176 non-null object\n",
            "EndDate               136176 non-null object\n",
            "Gender                136176 non-null object\n",
            "Date                  135231 non-null object\n",
            "Medium                126604 non-null object\n",
            "Dimensions            126629 non-null object\n",
            "CreditLine            134763 non-null object\n",
            "AccessionNumber       137643 non-null object\n",
            "Classification        137643 non-null object\n",
            "Department            137643 non-null object\n",
            "DateAcquired          130796 non-null object\n",
            "Cataloged             137643 non-null object\n",
            "ObjectID              137643 non-null int64\n",
            "URL                   79296 non-null object\n",
            "ThumbnailURL          68682 non-null object\n",
            "Circumference (cm)    10 non-null float64\n",
            "Depth (cm)            13771 non-null float64\n",
            "Diameter (cm)         1442 non-null float64\n",
            "Height (cm)           118149 non-null float64\n",
            "Length (cm)           739 non-null float64\n",
            "Weight (kg)           289 non-null float64\n",
            "Width (cm)            117232 non-null float64\n",
            "Seat Height (cm)      0 non-null float64\n",
            "Duration (sec.)       3309 non-null float64\n",
            "dtypes: float64(9), int64(1), object(19)\n",
            "memory usage: 30.5+ MB\n"
          ],
          "name": "stdout"
        }
      ]
    },
    {
      "cell_type": "code",
      "metadata": {
        "id": "X2qhC2SarMVF",
        "colab_type": "code",
        "colab": {}
      },
      "source": [
        "# Select Columns.\n",
        "artworks = artworks[['Artist', 'Nationality', 'Gender', 'Date', 'Department',\n",
        "                    'DateAcquired', 'URL', 'ThumbnailURL', 'Height (cm)', 'Width (cm)']]\n",
        "\n",
        "# Convert URL's to booleans.\n",
        "artworks['URL'] = artworks['URL'].notnull()\n",
        "artworks['ThumbnailURL'] = artworks['ThumbnailURL'].notnull()\n",
        "\n",
        "# Drop films and some other tricky rows.\n",
        "artworks = artworks[artworks['Department']!='Film']\n",
        "artworks = artworks[artworks['Department']!='Media and Performance Art']\n",
        "artworks = artworks[artworks['Department']!='Fluxus Collection']\n",
        "\n",
        "# Drop missing data.\n",
        "artworks = artworks.dropna()"
      ],
      "execution_count": 0,
      "outputs": []
    },
    {
      "cell_type": "code",
      "metadata": {
        "id": "iVcpjHL2rgfJ",
        "colab_type": "code",
        "outputId": "3107351b-2434-42cd-99a8-74d7a59e8d3b",
        "colab": {
          "base_uri": "https://localhost:8080/",
          "height": 34
        }
      },
      "source": [
        "#Converting DateAcquired column from object to datetime object and adding feature for acquisition year\n",
        "artworks['DateAcquired'] = pd.to_datetime(artworks.DateAcquired)\n",
        "artworks['YearAcquired'] = artworks.DateAcquired.dt.year\n",
        "artworks['YearAcquired'].dtype"
      ],
      "execution_count": 0,
      "outputs": [
        {
          "output_type": "execute_result",
          "data": {
            "text/plain": [
              "dtype('int64')"
            ]
          },
          "metadata": {
            "tags": []
          },
          "execution_count": 27
        }
      ]
    },
    {
      "cell_type": "code",
      "metadata": {
        "id": "P3Ab31SY2I9Q",
        "colab_type": "code",
        "outputId": "c23062b4-f298-4239-9d54-faadc2e0ab1d",
        "colab": {
          "base_uri": "https://localhost:8080/",
          "height": 195
        }
      },
      "source": [
        "artworks.head()"
      ],
      "execution_count": 0,
      "outputs": [
        {
          "output_type": "execute_result",
          "data": {
            "text/html": [
              "<div>\n",
              "<style scoped>\n",
              "    .dataframe tbody tr th:only-of-type {\n",
              "        vertical-align: middle;\n",
              "    }\n",
              "\n",
              "    .dataframe tbody tr th {\n",
              "        vertical-align: top;\n",
              "    }\n",
              "\n",
              "    .dataframe thead th {\n",
              "        text-align: right;\n",
              "    }\n",
              "</style>\n",
              "<table border=\"1\" class=\"dataframe\">\n",
              "  <thead>\n",
              "    <tr style=\"text-align: right;\">\n",
              "      <th></th>\n",
              "      <th>Artist</th>\n",
              "      <th>Nationality</th>\n",
              "      <th>Gender</th>\n",
              "      <th>Date</th>\n",
              "      <th>Department</th>\n",
              "      <th>DateAcquired</th>\n",
              "      <th>URL</th>\n",
              "      <th>ThumbnailURL</th>\n",
              "      <th>Height (cm)</th>\n",
              "      <th>Width (cm)</th>\n",
              "      <th>YearAcquired</th>\n",
              "    </tr>\n",
              "  </thead>\n",
              "  <tbody>\n",
              "    <tr>\n",
              "      <th>0</th>\n",
              "      <td>Otto Wagner</td>\n",
              "      <td>(Austrian)</td>\n",
              "      <td>(Male)</td>\n",
              "      <td>1896</td>\n",
              "      <td>Architecture &amp; Design</td>\n",
              "      <td>1996-04-09</td>\n",
              "      <td>True</td>\n",
              "      <td>True</td>\n",
              "      <td>48.6000</td>\n",
              "      <td>168.9000</td>\n",
              "      <td>1996</td>\n",
              "    </tr>\n",
              "    <tr>\n",
              "      <th>1</th>\n",
              "      <td>Christian de Portzamparc</td>\n",
              "      <td>(French)</td>\n",
              "      <td>(Male)</td>\n",
              "      <td>1987</td>\n",
              "      <td>Architecture &amp; Design</td>\n",
              "      <td>1995-01-17</td>\n",
              "      <td>True</td>\n",
              "      <td>True</td>\n",
              "      <td>40.6401</td>\n",
              "      <td>29.8451</td>\n",
              "      <td>1995</td>\n",
              "    </tr>\n",
              "    <tr>\n",
              "      <th>2</th>\n",
              "      <td>Emil Hoppe</td>\n",
              "      <td>(Austrian)</td>\n",
              "      <td>(Male)</td>\n",
              "      <td>1903</td>\n",
              "      <td>Architecture &amp; Design</td>\n",
              "      <td>1997-01-15</td>\n",
              "      <td>True</td>\n",
              "      <td>True</td>\n",
              "      <td>34.3000</td>\n",
              "      <td>31.8000</td>\n",
              "      <td>1997</td>\n",
              "    </tr>\n",
              "    <tr>\n",
              "      <th>3</th>\n",
              "      <td>Bernard Tschumi</td>\n",
              "      <td>()</td>\n",
              "      <td>(Male)</td>\n",
              "      <td>1980</td>\n",
              "      <td>Architecture &amp; Design</td>\n",
              "      <td>1995-01-17</td>\n",
              "      <td>True</td>\n",
              "      <td>True</td>\n",
              "      <td>50.8000</td>\n",
              "      <td>50.8000</td>\n",
              "      <td>1995</td>\n",
              "    </tr>\n",
              "    <tr>\n",
              "      <th>4</th>\n",
              "      <td>Emil Hoppe</td>\n",
              "      <td>(Austrian)</td>\n",
              "      <td>(Male)</td>\n",
              "      <td>1903</td>\n",
              "      <td>Architecture &amp; Design</td>\n",
              "      <td>1997-01-15</td>\n",
              "      <td>True</td>\n",
              "      <td>True</td>\n",
              "      <td>38.4000</td>\n",
              "      <td>19.1000</td>\n",
              "      <td>1997</td>\n",
              "    </tr>\n",
              "  </tbody>\n",
              "</table>\n",
              "</div>"
            ],
            "text/plain": [
              "                     Artist Nationality  Gender  Date             Department  \\\n",
              "0               Otto Wagner  (Austrian)  (Male)  1896  Architecture & Design   \n",
              "1  Christian de Portzamparc    (French)  (Male)  1987  Architecture & Design   \n",
              "2                Emil Hoppe  (Austrian)  (Male)  1903  Architecture & Design   \n",
              "3           Bernard Tschumi          ()  (Male)  1980  Architecture & Design   \n",
              "4                Emil Hoppe  (Austrian)  (Male)  1903  Architecture & Design   \n",
              "\n",
              "  DateAcquired   URL  ThumbnailURL  Height (cm)  Width (cm)  YearAcquired  \n",
              "0   1996-04-09  True          True      48.6000    168.9000          1996  \n",
              "1   1995-01-17  True          True      40.6401     29.8451          1995  \n",
              "2   1997-01-15  True          True      34.3000     31.8000          1997  \n",
              "3   1995-01-17  True          True      50.8000     50.8000          1995  \n",
              "4   1997-01-15  True          True      38.4000     19.1000          1997  "
            ]
          },
          "metadata": {
            "tags": []
          },
          "execution_count": 31
        }
      ]
    },
    {
      "cell_type": "code",
      "metadata": {
        "id": "YAxcjrmwSrHS",
        "colab_type": "code",
        "colab": {}
      },
      "source": [
        "#remove multiple genders, clean up duplicate category for male\n",
        "artworks.loc[artworks['Gender'].str.contains('\\) \\('), 'Gender'] = '\\(multiple_persons\\)'\n",
        "artworks['Gender'] = artworks['Gender'].str.replace('Male', 'male')"
      ],
      "execution_count": 0,
      "outputs": []
    },
    {
      "cell_type": "code",
      "metadata": {
        "id": "QsFTRjMlW9sz",
        "colab_type": "code",
        "outputId": "e71c0235-d730-417b-b3f3-658da1c6b198",
        "colab": {
          "base_uri": "https://localhost:8080/",
          "height": 1911
        }
      },
      "source": [
        "\n",
        "empty_natl = artworks.loc[artworks['Nationality']=='()']\n",
        "empty_natl.groupby('Artist').count()[['YearAcquired']].sort_values(by='YearAcquired',ascending=False)"
      ],
      "execution_count": 0,
      "outputs": [
        {
          "output_type": "execute_result",
          "data": {
            "text/html": [
              "<div>\n",
              "<style scoped>\n",
              "    .dataframe tbody tr th:only-of-type {\n",
              "        vertical-align: middle;\n",
              "    }\n",
              "\n",
              "    .dataframe tbody tr th {\n",
              "        vertical-align: top;\n",
              "    }\n",
              "\n",
              "    .dataframe thead th {\n",
              "        text-align: right;\n",
              "    }\n",
              "</style>\n",
              "<table border=\"1\" class=\"dataframe\">\n",
              "  <thead>\n",
              "    <tr style=\"text-align: right;\">\n",
              "      <th></th>\n",
              "      <th>YearAcquired</th>\n",
              "    </tr>\n",
              "    <tr>\n",
              "      <th>Artist</th>\n",
              "      <th></th>\n",
              "    </tr>\n",
              "  </thead>\n",
              "  <tbody>\n",
              "    <tr>\n",
              "      <th>Unknown photographer</th>\n",
              "      <td>2127</td>\n",
              "    </tr>\n",
              "    <tr>\n",
              "      <th>Unknown Artists</th>\n",
              "      <td>201</td>\n",
              "    </tr>\n",
              "    <tr>\n",
              "      <th>Russian Book Collection</th>\n",
              "      <td>89</td>\n",
              "    </tr>\n",
              "    <tr>\n",
              "      <th>Bernard Tschumi</th>\n",
              "      <td>61</td>\n",
              "    </tr>\n",
              "    <tr>\n",
              "      <th>Various Artists</th>\n",
              "      <td>49</td>\n",
              "    </tr>\n",
              "    <tr>\n",
              "      <th>Destroy All Monsters</th>\n",
              "      <td>48</td>\n",
              "    </tr>\n",
              "    <tr>\n",
              "      <th>unknown</th>\n",
              "      <td>26</td>\n",
              "    </tr>\n",
              "    <tr>\n",
              "      <th>Associated Press</th>\n",
              "      <td>20</td>\n",
              "    </tr>\n",
              "    <tr>\n",
              "      <th>Department of Publications and Urban Design, Organizing Committee of the XIX Olympiad</th>\n",
              "      <td>18</td>\n",
              "    </tr>\n",
              "    <tr>\n",
              "      <th>Janet Rifkin</th>\n",
              "      <td>14</td>\n",
              "    </tr>\n",
              "    <tr>\n",
              "      <th>Designer unknown</th>\n",
              "      <td>10</td>\n",
              "    </tr>\n",
              "    <tr>\n",
              "      <th>Apple, Inc.</th>\n",
              "      <td>10</td>\n",
              "    </tr>\n",
              "    <tr>\n",
              "      <th>Slavs and Tatars</th>\n",
              "      <td>10</td>\n",
              "    </tr>\n",
              "    <tr>\n",
              "      <th>Adol'f Strakhov</th>\n",
              "      <td>9</td>\n",
              "    </tr>\n",
              "    <tr>\n",
              "      <th>Unknown Author</th>\n",
              "      <td>8</td>\n",
              "    </tr>\n",
              "    <tr>\n",
              "      <th>Nikolai Il'in</th>\n",
              "      <td>8</td>\n",
              "    </tr>\n",
              "    <tr>\n",
              "      <th>Boris Erdman</th>\n",
              "      <td>8</td>\n",
              "    </tr>\n",
              "    <tr>\n",
              "      <th>Hi Red Center</th>\n",
              "      <td>7</td>\n",
              "    </tr>\n",
              "    <tr>\n",
              "      <th>assume vivid astro focus</th>\n",
              "      <td>7</td>\n",
              "    </tr>\n",
              "    <tr>\n",
              "      <th>Ekaterina Turova</th>\n",
              "      <td>7</td>\n",
              "    </tr>\n",
              "    <tr>\n",
              "      <th>Rodney Graham Band</th>\n",
              "      <td>7</td>\n",
              "    </tr>\n",
              "    <tr>\n",
              "      <th>Robert De Boeck</th>\n",
              "      <td>6</td>\n",
              "    </tr>\n",
              "    <tr>\n",
              "      <th>International News Photo</th>\n",
              "      <td>6</td>\n",
              "    </tr>\n",
              "    <tr>\n",
              "      <th>David Shterenberg</th>\n",
              "      <td>6</td>\n",
              "    </tr>\n",
              "    <tr>\n",
              "      <th>raumlaborberlin</th>\n",
              "      <td>6</td>\n",
              "    </tr>\n",
              "    <tr>\n",
              "      <th>Gardens Media Group, Cape Town</th>\n",
              "      <td>5</td>\n",
              "    </tr>\n",
              "    <tr>\n",
              "      <th>Georgii Iakulov</th>\n",
              "      <td>5</td>\n",
              "    </tr>\n",
              "    <tr>\n",
              "      <th>Ian Wilson</th>\n",
              "      <td>5</td>\n",
              "    </tr>\n",
              "    <tr>\n",
              "      <th>Vulcan</th>\n",
              "      <td>5</td>\n",
              "    </tr>\n",
              "    <tr>\n",
              "      <th>Muntean/Rosenblum</th>\n",
              "      <td>5</td>\n",
              "    </tr>\n",
              "    <tr>\n",
              "      <th>...</th>\n",
              "      <td>...</td>\n",
              "    </tr>\n",
              "    <tr>\n",
              "      <th>Hans Peter Litscher</th>\n",
              "      <td>1</td>\n",
              "    </tr>\n",
              "    <tr>\n",
              "      <th>Harry Gordon</th>\n",
              "      <td>1</td>\n",
              "    </tr>\n",
              "    <tr>\n",
              "      <th>Iukhym Mykhailiv</th>\n",
              "      <td>1</td>\n",
              "    </tr>\n",
              "    <tr>\n",
              "      <th>Iu Kri'd'n</th>\n",
              "      <td>1</td>\n",
              "    </tr>\n",
              "    <tr>\n",
              "      <th>Isa Stech</th>\n",
              "      <td>1</td>\n",
              "    </tr>\n",
              "    <tr>\n",
              "      <th>Irwin Welcher</th>\n",
              "      <td>1</td>\n",
              "    </tr>\n",
              "    <tr>\n",
              "      <th>Irwin Gershen</th>\n",
              "      <td>1</td>\n",
              "    </tr>\n",
              "    <tr>\n",
              "      <th>Ir Shtemberg</th>\n",
              "      <td>1</td>\n",
              "    </tr>\n",
              "    <tr>\n",
              "      <th>International Newsreel</th>\n",
              "      <td>1</td>\n",
              "    </tr>\n",
              "    <tr>\n",
              "      <th>International Film Service Company/Hearst</th>\n",
              "      <td>1</td>\n",
              "    </tr>\n",
              "    <tr>\n",
              "      <th>Ingram Marshall</th>\n",
              "      <td>1</td>\n",
              "    </tr>\n",
              "    <tr>\n",
              "      <th>Ines Lombardi</th>\n",
              "      <td>1</td>\n",
              "    </tr>\n",
              "    <tr>\n",
              "      <th>Igor Kordej</th>\n",
              "      <td>1</td>\n",
              "    </tr>\n",
              "    <tr>\n",
              "      <th>Ian Davenport</th>\n",
              "      <td>1</td>\n",
              "    </tr>\n",
              "    <tr>\n",
              "      <th>Ia Rudens'kyi</th>\n",
              "      <td>1</td>\n",
              "    </tr>\n",
              "    <tr>\n",
              "      <th>IBM, East Fishkill, NY</th>\n",
              "      <td>1</td>\n",
              "    </tr>\n",
              "    <tr>\n",
              "      <th>I. Sunderland</th>\n",
              "      <td>1</td>\n",
              "    </tr>\n",
              "    <tr>\n",
              "      <th>I. Shlepianov</th>\n",
              "      <td>1</td>\n",
              "    </tr>\n",
              "    <tr>\n",
              "      <th>Hryhorii Bondarenko</th>\n",
              "      <td>1</td>\n",
              "    </tr>\n",
              "    <tr>\n",
              "      <th>Hr. Dubyns'kii</th>\n",
              "      <td>1</td>\n",
              "    </tr>\n",
              "    <tr>\n",
              "      <th>Horßkovß and Maurer</th>\n",
              "      <td>1</td>\n",
              "    </tr>\n",
              "    <tr>\n",
              "      <th>Hoffman/International Press Studio</th>\n",
              "      <td>1</td>\n",
              "    </tr>\n",
              "    <tr>\n",
              "      <th>Hideto Yamazaki</th>\n",
              "      <td>1</td>\n",
              "    </tr>\n",
              "    <tr>\n",
              "      <th>Henry Bataille</th>\n",
              "      <td>1</td>\n",
              "    </tr>\n",
              "    <tr>\n",
              "      <th>Henrik Håkansson</th>\n",
              "      <td>1</td>\n",
              "    </tr>\n",
              "    <tr>\n",
              "      <th>Henke Meller</th>\n",
              "      <td>1</td>\n",
              "    </tr>\n",
              "    <tr>\n",
              "      <th>Helmut Stockhammer</th>\n",
              "      <td>1</td>\n",
              "    </tr>\n",
              "    <tr>\n",
              "      <th>Heinrich Steiuer</th>\n",
              "      <td>1</td>\n",
              "    </tr>\n",
              "    <tr>\n",
              "      <th>Harry R. Barry</th>\n",
              "      <td>1</td>\n",
              "    </tr>\n",
              "    <tr>\n",
              "      <th>Éditions Surréalistes, Paris</th>\n",
              "      <td>1</td>\n",
              "    </tr>\n",
              "  </tbody>\n",
              "</table>\n",
              "<p>575 rows × 1 columns</p>\n",
              "</div>"
            ],
            "text/plain": [
              "                                                    YearAcquired\n",
              "Artist                                                          \n",
              "Unknown photographer                                        2127\n",
              "Unknown Artists                                              201\n",
              "Russian Book Collection                                       89\n",
              "Bernard Tschumi                                               61\n",
              "Various Artists                                               49\n",
              "Destroy All Monsters                                          48\n",
              "unknown                                                       26\n",
              "Associated Press                                              20\n",
              "Department of Publications and Urban Design, Or...            18\n",
              "Janet Rifkin                                                  14\n",
              "Designer unknown                                              10\n",
              "Apple, Inc.                                                   10\n",
              "Slavs and Tatars                                              10\n",
              "Adol'f Strakhov                                                9\n",
              "Unknown Author                                                 8\n",
              "Nikolai Il'in                                                  8\n",
              "Boris Erdman                                                   8\n",
              "Hi Red Center                                                  7\n",
              "assume vivid astro focus                                       7\n",
              "Ekaterina Turova                                               7\n",
              "Rodney Graham Band                                             7\n",
              "Robert De Boeck                                                6\n",
              "International News Photo                                       6\n",
              "David Shterenberg                                              6\n",
              "raumlaborberlin                                                6\n",
              "Gardens Media Group, Cape Town                                 5\n",
              "Georgii Iakulov                                                5\n",
              "Ian Wilson                                                     5\n",
              "Vulcan                                                         5\n",
              "Muntean/Rosenblum                                              5\n",
              "...                                                          ...\n",
              "Hans Peter Litscher                                            1\n",
              "Harry Gordon                                                   1\n",
              "Iukhym Mykhailiv                                               1\n",
              "Iu Kri'd'n                                                     1\n",
              "Isa Stech                                                      1\n",
              "Irwin Welcher                                                  1\n",
              "Irwin Gershen                                                  1\n",
              "Ir Shtemberg                                                   1\n",
              "International Newsreel                                         1\n",
              "International Film Service Company/Hearst                      1\n",
              "Ingram Marshall                                                1\n",
              "Ines Lombardi                                                  1\n",
              "Igor Kordej                                                    1\n",
              "Ian Davenport                                                  1\n",
              "Ia Rudens'kyi                                                  1\n",
              "IBM, East Fishkill, NY                                         1\n",
              "I. Sunderland                                                  1\n",
              "I. Shlepianov                                                  1\n",
              "Hryhorii Bondarenko                                            1\n",
              "Hr. Dubyns'kii                                                 1\n",
              "Horßkovß and Maurer                                            1\n",
              "Hoffman/International Press Studio                             1\n",
              "Hideto Yamazaki                                                1\n",
              "Henry Bataille                                                 1\n",
              "Henrik Håkansson                                               1\n",
              "Henke Meller                                                   1\n",
              "Helmut Stockhammer                                             1\n",
              "Heinrich Steiuer                                               1\n",
              "Harry R. Barry                                                 1\n",
              "Éditions Surréalistes, Paris                                   1\n",
              "\n",
              "[575 rows x 1 columns]"
            ]
          },
          "metadata": {
            "tags": []
          },
          "execution_count": 29
        }
      ]
    },
    {
      "cell_type": "code",
      "metadata": {
        "id": "H4xw4jtmS4lR",
        "colab_type": "code",
        "colab": {}
      },
      "source": [
        "#where artists include multiple nationalities, set as 'multiple nationalities'\n",
        "artworks.loc[artworks['Nationality'].str.contains('\\) \\('), 'Nationality'] = '\\(multiple_nationalities\\)'\n",
        "# artworks = artworks.loc[artworks['Nationality']!='()']"
      ],
      "execution_count": 0,
      "outputs": []
    },
    {
      "cell_type": "code",
      "metadata": {
        "id": "5RAQnnw7X37V",
        "colab_type": "code",
        "colab": {}
      },
      "source": [
        "#where there are multiple artists, set as 'multiple artists'\n",
        "artworks.loc[artworks['Artist'].str.contains(','), 'Artist'] = 'Multiple_Artists'"
      ],
      "execution_count": 0,
      "outputs": []
    },
    {
      "cell_type": "code",
      "metadata": {
        "id": "xUa7tRikb1Aa",
        "colab_type": "code",
        "outputId": "c403ecc5-2aa6-4d3d-8e88-bb456a96e53a",
        "colab": {
          "base_uri": "https://localhost:8080/",
          "height": 195
        }
      },
      "source": [
        "#create new feature of height x width\n",
        "artworks['HxW']=artworks['Height (cm)']*artworks['Width (cm)']\n",
        "artworks[['Height (cm)','Width (cm)', 'HxW']].sort_values(by='HxW', ascending=False).head()"
      ],
      "execution_count": 0,
      "outputs": [
        {
          "output_type": "execute_result",
          "data": {
            "text/html": [
              "<div>\n",
              "<style scoped>\n",
              "    .dataframe tbody tr th:only-of-type {\n",
              "        vertical-align: middle;\n",
              "    }\n",
              "\n",
              "    .dataframe tbody tr th {\n",
              "        vertical-align: top;\n",
              "    }\n",
              "\n",
              "    .dataframe thead th {\n",
              "        text-align: right;\n",
              "    }\n",
              "</style>\n",
              "<table border=\"1\" class=\"dataframe\">\n",
              "  <thead>\n",
              "    <tr style=\"text-align: right;\">\n",
              "      <th></th>\n",
              "      <th>Height (cm)</th>\n",
              "      <th>Width (cm)</th>\n",
              "      <th>HxW</th>\n",
              "    </tr>\n",
              "  </thead>\n",
              "  <tbody>\n",
              "    <tr>\n",
              "      <th>33742</th>\n",
              "      <td>1097.3000</td>\n",
              "      <td>9144.0000</td>\n",
              "      <td>1.003371e+07</td>\n",
              "    </tr>\n",
              "    <tr>\n",
              "      <th>124197</th>\n",
              "      <td>5000.0000</td>\n",
              "      <td>1200.0000</td>\n",
              "      <td>6.000000e+06</td>\n",
              "    </tr>\n",
              "    <tr>\n",
              "      <th>87585</th>\n",
              "      <td>9140.0000</td>\n",
              "      <td>200.0000</td>\n",
              "      <td>1.828000e+06</td>\n",
              "    </tr>\n",
              "    <tr>\n",
              "      <th>86892</th>\n",
              "      <td>228.6005</td>\n",
              "      <td>4663.4493</td>\n",
              "      <td>1.066067e+06</td>\n",
              "    </tr>\n",
              "    <tr>\n",
              "      <th>75300</th>\n",
              "      <td>1000.8000</td>\n",
              "      <td>1000.8000</td>\n",
              "      <td>1.001601e+06</td>\n",
              "    </tr>\n",
              "  </tbody>\n",
              "</table>\n",
              "</div>"
            ],
            "text/plain": [
              "        Height (cm)  Width (cm)           HxW\n",
              "33742     1097.3000   9144.0000  1.003371e+07\n",
              "124197    5000.0000   1200.0000  6.000000e+06\n",
              "87585     9140.0000    200.0000  1.828000e+06\n",
              "86892      228.6005   4663.4493  1.066067e+06\n",
              "75300     1000.8000   1000.8000  1.001601e+06"
            ]
          },
          "metadata": {
            "tags": []
          },
          "execution_count": 32
        }
      ]
    },
    {
      "cell_type": "code",
      "metadata": {
        "id": "4ZBWd4Itc6jz",
        "colab_type": "code",
        "outputId": "57141918-4f2f-4319-d943-e967744b3403",
        "colab": {
          "base_uri": "https://localhost:8080/",
          "height": 410
        }
      },
      "source": [
        "plt.boxplot(artworks.HxW)"
      ],
      "execution_count": 0,
      "outputs": [
        {
          "output_type": "execute_result",
          "data": {
            "text/plain": [
              "{'boxes': [<matplotlib.lines.Line2D at 0x7f63c8070fd0>],\n",
              " 'caps': [<matplotlib.lines.Line2D at 0x7f63c8069828>,\n",
              "  <matplotlib.lines.Line2D at 0x7f63c8069b70>],\n",
              " 'fliers': [<matplotlib.lines.Line2D at 0x7f63c805f240>],\n",
              " 'means': [],\n",
              " 'medians': [<matplotlib.lines.Line2D at 0x7f63c8069eb8>],\n",
              " 'whiskers': [<matplotlib.lines.Line2D at 0x7f63c8069198>,\n",
              "  <matplotlib.lines.Line2D at 0x7f63c80694e0>]}"
            ]
          },
          "metadata": {
            "tags": []
          },
          "execution_count": 11
        },
        {
          "output_type": "display_data",
          "data": {
            "image/png": "[encoded data removed]",
            "text/plain": [
              "<Figure size 432x288 with 1 Axes>"
            ]
          },
          "metadata": {
            "tags": []
          }
        }
      ]
    },
    {
      "cell_type": "code",
      "metadata": {
        "id": "1AHY6S3HYKVR",
        "colab_type": "code",
        "outputId": "ac427403-807e-4825-e2b0-3a7ffa276151",
        "colab": {
          "base_uri": "https://localhost:8080/",
          "height": 168
        }
      },
      "source": [
        "artworks['HxW'].describe()\n",
        "#mean is 280, std is 33570, min is 0, 25% of data is less than 340, 50% less than 698, 75% less than 1851, max is 10033710"
      ],
      "execution_count": 0,
      "outputs": [
        {
          "output_type": "execute_result",
          "data": {
            "text/plain": [
              "count    1.079010e+05\n",
              "mean     2.797526e+03\n",
              "std      3.357034e+04\n",
              "min      0.000000e+00\n",
              "25%      3.399800e+02\n",
              "50%      6.984500e+02\n",
              "75%      1.851040e+03\n",
              "max      1.003371e+07\n",
              "Name: HxW, dtype: float64"
            ]
          },
          "metadata": {
            "tags": []
          },
          "execution_count": 10
        }
      ]
    },
    {
      "cell_type": "code",
      "metadata": {
        "id": "hVgt9o5GVYxZ",
        "colab_type": "code",
        "colab": {}
      },
      "source": [
        "#filter out the outlier of HxW\n",
        "artworks = artworks.loc[artworks['HxW']!=artworks['HxW'].max()]"
      ],
      "execution_count": 0,
      "outputs": []
    },
    {
      "cell_type": "code",
      "metadata": {
        "id": "7BaHipcUVzUP",
        "colab_type": "code",
        "outputId": "aec40f38-a8e6-401c-cc40-e8bdec1e43b6",
        "colab": {
          "base_uri": "https://localhost:8080/",
          "height": 168
        }
      },
      "source": [
        "#get descriptive stats on HxW\n",
        "artworks.HxW.describe()"
      ],
      "execution_count": 0,
      "outputs": [
        {
          "output_type": "execute_result",
          "data": {
            "text/plain": [
              "count    1.079000e+05\n",
              "mean     2.704561e+03\n",
              "std      1.394409e+04\n",
              "min      0.000000e+00\n",
              "25%      3.399776e+02\n",
              "50%      6.984500e+02\n",
              "75%      1.850898e+03\n",
              "max      1.828000e+06\n",
              "Name: HxW, dtype: float64"
            ]
          },
          "metadata": {
            "tags": []
          },
          "execution_count": 40
        }
      ]
    },
    {
      "cell_type": "code",
      "metadata": {
        "id": "BzhPpwGUXs5m",
        "colab_type": "code",
        "outputId": "cace1dac-30e7-41c6-cdd9-4c3babd394aa",
        "colab": {
          "base_uri": "https://localhost:8080/",
          "height": 101
        }
      },
      "source": [
        "#categorize the size of the artwork into small, medium, large, very large. cutoff points are taking from interquartile ranges above\n",
        "\n",
        "#Binning:\n",
        "def binning(col, cut_points, labels=None):\n",
        "  #Define min and max values:\n",
        "  minval = col.min()\n",
        "  maxval = col.max()\n",
        "\n",
        "  #create list by adding min and max to cut_points\n",
        "  break_points = [minval] + cut_points + [maxval]\n",
        "\n",
        "  #if no labels provided, use default labels 0 ... (n-1)\n",
        "  if not labels:\n",
        "    labels = range(len(cut_points)+1)\n",
        "\n",
        "  #Binning using cut function of pandas\n",
        "  colBin = pd.cut(col,bins=break_points,labels=labels,include_lowest=True)\n",
        "  return colBin\n",
        "\n",
        "#Binning age:\n",
        "cut_points = [340,690,1850]\n",
        "labels = [\"small\",\"medium\",\"large\",\"very large\"]\n",
        "artworks[\"size\"] = binning(artworks[\"HxW\"], cut_points, labels)\n",
        "print(pd.value_counts(artworks[\"size\"], sort=False))"
      ],
      "execution_count": 0,
      "outputs": [
        {
          "output_type": "stream",
          "text": [
            "small         27048\n",
            "medium        26482\n",
            "large         27551\n",
            "very large    27047\n",
            "Name: size, dtype: int64\n"
          ],
          "name": "stdout"
        }
      ]
    },
    {
      "cell_type": "code",
      "metadata": {
        "id": "AAb0-7fssEe3",
        "colab_type": "code",
        "colab": {}
      },
      "source": [
        "# Convert dates to start date, cutting down number of distinct examples.\n",
        "artworks['Date'] = pd.Series(artworks.Date.str.extract(\n",
        "    '([0-9]{4})', expand=False))[:-1]\n"
      ],
      "execution_count": 0,
      "outputs": []
    },
    {
      "cell_type": "code",
      "metadata": {
        "id": "s40JbKYOnX49",
        "colab_type": "code",
        "outputId": "450398a9-1d92-4713-9bcb-f1b00d853847",
        "colab": {
          "base_uri": "https://localhost:8080/",
          "height": 195
        }
      },
      "source": [
        "artworks.head()"
      ],
      "execution_count": 0,
      "outputs": [
        {
          "output_type": "execute_result",
          "data": {
            "text/html": [
              "<div>\n",
              "<style scoped>\n",
              "    .dataframe tbody tr th:only-of-type {\n",
              "        vertical-align: middle;\n",
              "    }\n",
              "\n",
              "    .dataframe tbody tr th {\n",
              "        vertical-align: top;\n",
              "    }\n",
              "\n",
              "    .dataframe thead th {\n",
              "        text-align: right;\n",
              "    }\n",
              "</style>\n",
              "<table border=\"1\" class=\"dataframe\">\n",
              "  <thead>\n",
              "    <tr style=\"text-align: right;\">\n",
              "      <th></th>\n",
              "      <th>Artist</th>\n",
              "      <th>Nationality</th>\n",
              "      <th>Gender</th>\n",
              "      <th>Date</th>\n",
              "      <th>Department</th>\n",
              "      <th>DateAcquired</th>\n",
              "      <th>URL</th>\n",
              "      <th>ThumbnailURL</th>\n",
              "      <th>Height (cm)</th>\n",
              "      <th>Width (cm)</th>\n",
              "      <th>YearAcquired</th>\n",
              "      <th>HxW</th>\n",
              "      <th>size</th>\n",
              "    </tr>\n",
              "  </thead>\n",
              "  <tbody>\n",
              "    <tr>\n",
              "      <th>0</th>\n",
              "      <td>Otto Wagner</td>\n",
              "      <td>(Austrian)</td>\n",
              "      <td>(male)</td>\n",
              "      <td>1896</td>\n",
              "      <td>Architecture &amp; Design</td>\n",
              "      <td>1996-04-09</td>\n",
              "      <td>True</td>\n",
              "      <td>True</td>\n",
              "      <td>48.6000</td>\n",
              "      <td>168.9000</td>\n",
              "      <td>1996</td>\n",
              "      <td>8208.540000</td>\n",
              "      <td>very large</td>\n",
              "    </tr>\n",
              "    <tr>\n",
              "      <th>1</th>\n",
              "      <td>Christian de Portzamparc</td>\n",
              "      <td>(French)</td>\n",
              "      <td>(male)</td>\n",
              "      <td>1987</td>\n",
              "      <td>Architecture &amp; Design</td>\n",
              "      <td>1995-01-17</td>\n",
              "      <td>True</td>\n",
              "      <td>True</td>\n",
              "      <td>40.6401</td>\n",
              "      <td>29.8451</td>\n",
              "      <td>1995</td>\n",
              "      <td>1212.907849</td>\n",
              "      <td>large</td>\n",
              "    </tr>\n",
              "    <tr>\n",
              "      <th>2</th>\n",
              "      <td>Emil Hoppe</td>\n",
              "      <td>(Austrian)</td>\n",
              "      <td>(male)</td>\n",
              "      <td>1903</td>\n",
              "      <td>Architecture &amp; Design</td>\n",
              "      <td>1997-01-15</td>\n",
              "      <td>True</td>\n",
              "      <td>True</td>\n",
              "      <td>34.3000</td>\n",
              "      <td>31.8000</td>\n",
              "      <td>1997</td>\n",
              "      <td>1090.740000</td>\n",
              "      <td>large</td>\n",
              "    </tr>\n",
              "    <tr>\n",
              "      <th>3</th>\n",
              "      <td>Bernard Tschumi</td>\n",
              "      <td>()</td>\n",
              "      <td>(male)</td>\n",
              "      <td>1980</td>\n",
              "      <td>Architecture &amp; Design</td>\n",
              "      <td>1995-01-17</td>\n",
              "      <td>True</td>\n",
              "      <td>True</td>\n",
              "      <td>50.8000</td>\n",
              "      <td>50.8000</td>\n",
              "      <td>1995</td>\n",
              "      <td>2580.640000</td>\n",
              "      <td>very large</td>\n",
              "    </tr>\n",
              "    <tr>\n",
              "      <th>4</th>\n",
              "      <td>Emil Hoppe</td>\n",
              "      <td>(Austrian)</td>\n",
              "      <td>(male)</td>\n",
              "      <td>1903</td>\n",
              "      <td>Architecture &amp; Design</td>\n",
              "      <td>1997-01-15</td>\n",
              "      <td>True</td>\n",
              "      <td>True</td>\n",
              "      <td>38.4000</td>\n",
              "      <td>19.1000</td>\n",
              "      <td>1997</td>\n",
              "      <td>733.440000</td>\n",
              "      <td>large</td>\n",
              "    </tr>\n",
              "  </tbody>\n",
              "</table>\n",
              "</div>"
            ],
            "text/plain": [
              "                     Artist Nationality  Gender  Date             Department  \\\n",
              "0               Otto Wagner  (Austrian)  (male)  1896  Architecture & Design   \n",
              "1  Christian de Portzamparc    (French)  (male)  1987  Architecture & Design   \n",
              "2                Emil Hoppe  (Austrian)  (male)  1903  Architecture & Design   \n",
              "3           Bernard Tschumi          ()  (male)  1980  Architecture & Design   \n",
              "4                Emil Hoppe  (Austrian)  (male)  1903  Architecture & Design   \n",
              "\n",
              "  DateAcquired   URL  ThumbnailURL  Height (cm)  Width (cm)  YearAcquired  \\\n",
              "0   1996-04-09  True          True      48.6000    168.9000          1996   \n",
              "1   1995-01-17  True          True      40.6401     29.8451          1995   \n",
              "2   1997-01-15  True          True      34.3000     31.8000          1997   \n",
              "3   1995-01-17  True          True      50.8000     50.8000          1995   \n",
              "4   1997-01-15  True          True      38.4000     19.1000          1997   \n",
              "\n",
              "           HxW        size  \n",
              "0  8208.540000  very large  \n",
              "1  1212.907849       large  \n",
              "2  1090.740000       large  \n",
              "3  2580.640000  very large  \n",
              "4   733.440000       large  "
            ]
          },
          "metadata": {
            "tags": []
          },
          "execution_count": 31
        }
      ]
    },
    {
      "cell_type": "code",
      "metadata": {
        "id": "3P3e-TmInizH",
        "colab_type": "code",
        "outputId": "717d6867-568b-481d-b817-7e020c4b4892",
        "colab": {
          "base_uri": "https://localhost:8080/",
          "height": 34
        }
      },
      "source": [
        "unique_dates, unique_year_acq, unique_artist, unique_nationality = artworks.Date.nunique(), artworks.YearAcquired.nunique(), artworks.Artist.nunique(), artworks.Nationality.nunique()\n",
        "print('unique_dates: {}, unique_year_acq: {}, unique_artist: {}, unique_nationality: {}'.format(unique_dates, unique_year_acq, unique_artist, unique_nationality))"
      ],
      "execution_count": 0,
      "outputs": [
        {
          "output_type": "stream",
          "text": [
            "unique_dates: 198, unique_year_acq: 91, unique_artist: 9365, unique_nationality: 110\n"
          ],
          "name": "stdout"
        }
      ]
    },
    {
      "cell_type": "code",
      "metadata": {
        "id": "cakKft0hTRfW",
        "colab_type": "code",
        "outputId": "a420574e-62bc-4639-9879-bdb8438a22a6",
        "colab": {
          "base_uri": "https://localhost:8080/",
          "height": 34
        }
      },
      "source": [
        "#filter out long tail of artists who contribute less than 4 works to the collection\n",
        "groupby_artist = artworks.groupby('Artist').filter(lambda x: x.DateAcquired.count()>4)\n",
        "\n",
        "groupby_artist = groupby_artist.dropna()\n",
        "\n",
        "groupby_artist.Artist.nunique()"
      ],
      "execution_count": 0,
      "outputs": [
        {
          "output_type": "execute_result",
          "data": {
            "text/plain": [
              "2544"
            ]
          },
          "metadata": {
            "tags": []
          },
          "execution_count": 36
        }
      ]
    },
    {
      "cell_type": "code",
      "metadata": {
        "id": "ZMCwgkQbpVOo",
        "colab_type": "code",
        "outputId": "2bddd02f-f3d7-4579-ebde-963f5c588750",
        "colab": {
          "base_uri": "https://localhost:8080/",
          "height": 34
        }
      },
      "source": [
        "X=groupby_artist.drop(['Department', 'DateAcquired','Height (cm)', 'Width (cm)', 'HxW'], 1)\n",
        "Y=groupby_artist['Department']\n",
        "X.shape, Y.shape"
      ],
      "execution_count": 0,
      "outputs": [
        {
          "output_type": "execute_result",
          "data": {
            "text/plain": [
              "((96559, 8), (96559,))"
            ]
          },
          "metadata": {
            "tags": []
          },
          "execution_count": 37
        }
      ]
    },
    {
      "cell_type": "code",
      "metadata": {
        "id": "TGePxPBuSzFn",
        "colab_type": "code",
        "outputId": "0e708e93-3da3-4c7b-859c-e39a9e298274",
        "colab": {
          "base_uri": "https://localhost:8080/",
          "height": 195
        }
      },
      "source": [
        "#MOMA acquired mainly Drawings and Prints in 1964. This is outlier behavior?\n",
        "artworks_1964=artworks.loc[artworks.YearAcquired==1964]\n",
        "artworks_1964.groupby('Department').count()[['Artist']].sort_values(by='Artist', ascending=False)\n"
      ],
      "execution_count": 0,
      "outputs": [
        {
          "output_type": "execute_result",
          "data": {
            "text/html": [
              "<div>\n",
              "<style scoped>\n",
              "    .dataframe tbody tr th:only-of-type {\n",
              "        vertical-align: middle;\n",
              "    }\n",
              "\n",
              "    .dataframe tbody tr th {\n",
              "        vertical-align: top;\n",
              "    }\n",
              "\n",
              "    .dataframe thead th {\n",
              "        text-align: right;\n",
              "    }\n",
              "</style>\n",
              "<table border=\"1\" class=\"dataframe\">\n",
              "  <thead>\n",
              "    <tr style=\"text-align: right;\">\n",
              "      <th></th>\n",
              "      <th>Artist</th>\n",
              "    </tr>\n",
              "    <tr>\n",
              "      <th>Department</th>\n",
              "      <th></th>\n",
              "    </tr>\n",
              "  </thead>\n",
              "  <tbody>\n",
              "    <tr>\n",
              "      <th>Drawings &amp; Prints</th>\n",
              "      <td>11720</td>\n",
              "    </tr>\n",
              "    <tr>\n",
              "      <th>Photography</th>\n",
              "      <td>553</td>\n",
              "    </tr>\n",
              "    <tr>\n",
              "      <th>Architecture &amp; Design</th>\n",
              "      <td>77</td>\n",
              "    </tr>\n",
              "    <tr>\n",
              "      <th>Painting &amp; Sculpture</th>\n",
              "      <td>58</td>\n",
              "    </tr>\n",
              "  </tbody>\n",
              "</table>\n",
              "</div>"
            ],
            "text/plain": [
              "                       Artist\n",
              "Department                   \n",
              "Drawings & Prints       11720\n",
              "Photography               553\n",
              "Architecture & Design      77\n",
              "Painting & Sculpture       58"
            ]
          },
          "metadata": {
            "tags": []
          },
          "execution_count": 28
        }
      ]
    },
    {
      "cell_type": "code",
      "metadata": {
        "id": "5YzsBl6Aox9N",
        "colab_type": "code",
        "outputId": "81d1617f-e34f-4e8d-c6df-72a3cadfeecc",
        "colab": {
          "base_uri": "https://localhost:8080/",
          "height": 34
        }
      },
      "source": [
        "X = pd.get_dummies(X, sparse=True)\n",
        "X.shape, Y.shape"
      ],
      "execution_count": 0,
      "outputs": [
        {
          "output_type": "execute_result",
          "data": {
            "text/plain": [
              "((96559, 2821), (96559,))"
            ]
          },
          "metadata": {
            "tags": []
          },
          "execution_count": 38
        }
      ]
    },
    {
      "cell_type": "code",
      "metadata": {
        "id": "AWFjrKAkgkXy",
        "colab_type": "code",
        "outputId": "9d3428ea-5d97-4f21-8001-9cca56ca2e40",
        "colab": {
          "base_uri": "https://localhost:8080/",
          "height": 34
        }
      },
      "source": [
        "from sklearn.model_selection import train_test_split\n",
        "X_train, X_test, y_train, y_test = train_test_split(X,Y, test_size=0.3)\n",
        "X_train.shape, y_train.shape, X_test.shape, y_test.shape"
      ],
      "execution_count": 0,
      "outputs": [
        {
          "output_type": "execute_result",
          "data": {
            "text/plain": [
              "((67591, 2821), (67591,), (28968, 2821), (28968,))"
            ]
          },
          "metadata": {
            "tags": []
          },
          "execution_count": 39
        }
      ]
    },
    {
      "cell_type": "code",
      "metadata": {
        "id": "83n07gfbshbT",
        "colab_type": "code",
        "outputId": "0c93431b-692b-4cf9-e0a8-a7a2f2f287a9",
        "colab": {
          "base_uri": "https://localhost:8080/",
          "height": 218
        }
      },
      "source": [
        "#import model\n",
        "from sklearn.neural_network import MLPClassifier\n",
        "from sklearn.model_selection import GridSearchCV\n",
        "\n",
        "#instantiate model\n",
        "mlp = MLPClassifier(max_iter=100)\n",
        "\n",
        "#define parameters\n",
        "parameter_space = {\n",
        "    'hidden_layer_sizes': [(50,), (100,)]}\n",
        "\n",
        "\n",
        "clf = GridSearchCV(mlp, parameter_space, cv=3)\n",
        "\n",
        "clf.fit(X_train, y_train)\n",
        "\n"
      ],
      "execution_count": 0,
      "outputs": [
        {
          "output_type": "execute_result",
          "data": {
            "text/plain": [
              "GridSearchCV(cv=3, error_score='raise-deprecating',\n",
              "       estimator=MLPClassifier(activation='relu', alpha=0.0001, batch_size='auto', beta_1=0.9,\n",
              "       beta_2=0.999, early_stopping=False, epsilon=1e-08,\n",
              "       hidden_layer_sizes=(100,), learning_rate='constant',\n",
              "       learning_rate_init=0.001, max_iter=100, momentum=0.9,\n",
              "       n_iter_no_change=10, nesterovs_momentum=True, power_t=0.5,\n",
              "       random_state=None, shuffle=True, solver='adam', tol=0.0001,\n",
              "       validation_fraction=0.1, verbose=False, warm_start=False),\n",
              "       fit_params=None, iid='warn', n_jobs=None,\n",
              "       param_grid={'hidden_layer_sizes': [(50,), (100,)]},\n",
              "       pre_dispatch='2*n_jobs', refit=True, return_train_score='warn',\n",
              "       scoring=None, verbose=0)"
            ]
          },
          "metadata": {
            "tags": []
          },
          "execution_count": 76
        }
      ]
    },
    {
      "cell_type": "code",
      "metadata": {
        "id": "G-87jkoPs1hd",
        "colab_type": "code",
        "outputId": "8b7518fa-fa95-409d-d8c5-44f200ab3010",
        "colab": {
          "base_uri": "https://localhost:8080/",
          "height": 138
        }
      },
      "source": [
        "# Best parameter set\n",
        "print('Best parameters found:', clf.best_params_)\n",
        "print('Best score:', clf.best_score_)\n",
        "print('All scores:', clf.cv_results_)\n",
        "\n"
      ],
      "execution_count": 0,
      "outputs": [
        {
          "output_type": "stream",
          "text": [
            "Best parameters found: {'hidden_layer_sizes': (50,)}\n",
            "Best score: 0.9356804333107651\n",
            "All scores: {'mean_fit_time': array([241.86193268, 192.44310212]), 'std_fit_time': array([93.27358819,  4.67493478]), 'mean_score_time': array([3.13553389, 3.3248082 ]), 'std_score_time': array([0.04484627, 0.04963494]), 'param_hidden_layer_sizes': masked_array(data=[(50,), (100,)],\n",
            "             mask=[False, False],\n",
            "       fill_value='?',\n",
            "            dtype=object), 'params': [{'hidden_layer_sizes': (50,)}, {'hidden_layer_sizes': (100,)}], 'split0_test_score': array([0.94061548, 0.9303722 ]), 'split1_test_score': array([0.93416347, 0.93389853]), 'split2_test_score': array([0.93226177, 0.93866466]), 'mean_test_score': array([0.93568043, 0.93431162]), 'std_test_score': array([0.00357511, 0.00339797]), 'rank_test_score': array([1, 2], dtype=int32), 'split0_train_score': array([0.95065463, 0.9374517 ]), 'split1_train_score': array([0.93906612, 0.94407771]), 'split2_train_score': array([0.94756711, 0.94973066]), 'mean_train_score': array([0.94576262, 0.94375336]), 'std_train_score': array([0.00490003, 0.00501811])}\n"
          ],
          "name": "stdout"
        }
      ]
    },
    {
      "cell_type": "code",
      "metadata": {
        "id": "F2s54yW9uAww",
        "colab_type": "code",
        "outputId": "8143a7cb-6895-46f9-a122-b4a808b445c3",
        "colab": {
          "base_uri": "https://localhost:8080/",
          "height": 682
        }
      },
      "source": [
        "from sklearn.neural_network import MLPClassifier\n",
        "#instantiate final mlp model\n",
        "mlp = MLPClassifier(max_iter=100, hidden_layer_sizes = (50,))\n",
        "\n",
        "\n",
        "mlp.fit(X_train, y_train)\n",
        "\n",
        "y_pred = mlp.predict(X_test)\n",
        "\n"
      ],
      "execution_count": 0,
      "outputs": [
        {
          "output_type": "error",
          "ename": "ValueError",
          "evalue": "ignored",
          "traceback": [
            "\u001b[0;31m---------------------------------------------------------------------------\u001b[0m",
            "\u001b[0;31mValueError\u001b[0m                                Traceback (most recent call last)",
            "\u001b[0;32m<ipython-input-42-ad3c0f4330cb>\u001b[0m in \u001b[0;36m<module>\u001b[0;34m()\u001b[0m\n\u001b[1;32m      6\u001b[0m \u001b[0mmlp\u001b[0m\u001b[0;34m.\u001b[0m\u001b[0mfit\u001b[0m\u001b[0;34m(\u001b[0m\u001b[0mX_train\u001b[0m\u001b[0;34m,\u001b[0m \u001b[0my_train\u001b[0m\u001b[0;34m)\u001b[0m\u001b[0;34m\u001b[0m\u001b[0;34m\u001b[0m\u001b[0m\n\u001b[1;32m      7\u001b[0m \u001b[0;34m\u001b[0m\u001b[0m\n\u001b[0;32m----> 8\u001b[0;31m \u001b[0my_pred\u001b[0m \u001b[0;34m=\u001b[0m \u001b[0mmlp\u001b[0m\u001b[0;34m.\u001b[0m\u001b[0mpredict\u001b[0m\u001b[0;34m(\u001b[0m\u001b[0mX_test\u001b[0m\u001b[0;34m)\u001b[0m\u001b[0;34m\u001b[0m\u001b[0;34m\u001b[0m\u001b[0m\n\u001b[0m\u001b[1;32m      9\u001b[0m \u001b[0;34m\u001b[0m\u001b[0m\n",
            "\u001b[0;32m/usr/local/lib/python3.6/dist-packages/sklearn/neural_network/multilayer_perceptron.py\u001b[0m in \u001b[0;36mpredict\u001b[0;34m(self, X)\u001b[0m\n\u001b[1;32m    951\u001b[0m         \"\"\"\n\u001b[1;32m    952\u001b[0m         \u001b[0mcheck_is_fitted\u001b[0m\u001b[0;34m(\u001b[0m\u001b[0mself\u001b[0m\u001b[0;34m,\u001b[0m \u001b[0;34m\"coefs_\"\u001b[0m\u001b[0;34m)\u001b[0m\u001b[0;34m\u001b[0m\u001b[0;34m\u001b[0m\u001b[0m\n\u001b[0;32m--> 953\u001b[0;31m         \u001b[0my_pred\u001b[0m \u001b[0;34m=\u001b[0m \u001b[0mself\u001b[0m\u001b[0;34m.\u001b[0m\u001b[0m_predict\u001b[0m\u001b[0;34m(\u001b[0m\u001b[0mX\u001b[0m\u001b[0;34m)\u001b[0m\u001b[0;34m\u001b[0m\u001b[0;34m\u001b[0m\u001b[0m\n\u001b[0m\u001b[1;32m    954\u001b[0m \u001b[0;34m\u001b[0m\u001b[0m\n\u001b[1;32m    955\u001b[0m         \u001b[0;32mif\u001b[0m \u001b[0mself\u001b[0m\u001b[0;34m.\u001b[0m\u001b[0mn_outputs_\u001b[0m \u001b[0;34m==\u001b[0m \u001b[0;36m1\u001b[0m\u001b[0;34m:\u001b[0m\u001b[0;34m\u001b[0m\u001b[0;34m\u001b[0m\u001b[0m\n",
            "\u001b[0;32m/usr/local/lib/python3.6/dist-packages/sklearn/neural_network/multilayer_perceptron.py\u001b[0m in \u001b[0;36m_predict\u001b[0;34m(self, X)\u001b[0m\n\u001b[1;32m    674\u001b[0m                                          layer_units[i + 1])))\n\u001b[1;32m    675\u001b[0m         \u001b[0;31m# forward propagate\u001b[0m\u001b[0;34m\u001b[0m\u001b[0;34m\u001b[0m\u001b[0;34m\u001b[0m\u001b[0m\n\u001b[0;32m--> 676\u001b[0;31m         \u001b[0mself\u001b[0m\u001b[0;34m.\u001b[0m\u001b[0m_forward_pass\u001b[0m\u001b[0;34m(\u001b[0m\u001b[0mactivations\u001b[0m\u001b[0;34m)\u001b[0m\u001b[0;34m\u001b[0m\u001b[0;34m\u001b[0m\u001b[0m\n\u001b[0m\u001b[1;32m    677\u001b[0m         \u001b[0my_pred\u001b[0m \u001b[0;34m=\u001b[0m \u001b[0mactivations\u001b[0m\u001b[0;34m[\u001b[0m\u001b[0;34m-\u001b[0m\u001b[0;36m1\u001b[0m\u001b[0;34m]\u001b[0m\u001b[0;34m\u001b[0m\u001b[0;34m\u001b[0m\u001b[0m\n\u001b[1;32m    678\u001b[0m \u001b[0;34m\u001b[0m\u001b[0m\n",
            "\u001b[0;32m/usr/local/lib/python3.6/dist-packages/sklearn/neural_network/multilayer_perceptron.py\u001b[0m in \u001b[0;36m_forward_pass\u001b[0;34m(self, activations)\u001b[0m\n\u001b[1;32m    100\u001b[0m         \u001b[0;32mfor\u001b[0m \u001b[0mi\u001b[0m \u001b[0;32min\u001b[0m \u001b[0mrange\u001b[0m\u001b[0;34m(\u001b[0m\u001b[0mself\u001b[0m\u001b[0;34m.\u001b[0m\u001b[0mn_layers_\u001b[0m \u001b[0;34m-\u001b[0m \u001b[0;36m1\u001b[0m\u001b[0;34m)\u001b[0m\u001b[0;34m:\u001b[0m\u001b[0;34m\u001b[0m\u001b[0;34m\u001b[0m\u001b[0m\n\u001b[1;32m    101\u001b[0m             activations[i + 1] = safe_sparse_dot(activations[i],\n\u001b[0;32m--> 102\u001b[0;31m                                                  self.coefs_[i])\n\u001b[0m\u001b[1;32m    103\u001b[0m             \u001b[0mactivations\u001b[0m\u001b[0;34m[\u001b[0m\u001b[0mi\u001b[0m \u001b[0;34m+\u001b[0m \u001b[0;36m1\u001b[0m\u001b[0;34m]\u001b[0m \u001b[0;34m+=\u001b[0m \u001b[0mself\u001b[0m\u001b[0;34m.\u001b[0m\u001b[0mintercepts_\u001b[0m\u001b[0;34m[\u001b[0m\u001b[0mi\u001b[0m\u001b[0;34m]\u001b[0m\u001b[0;34m\u001b[0m\u001b[0;34m\u001b[0m\u001b[0m\n\u001b[1;32m    104\u001b[0m \u001b[0;34m\u001b[0m\u001b[0m\n",
            "\u001b[0;32m/usr/local/lib/python3.6/dist-packages/sklearn/utils/extmath.py\u001b[0m in \u001b[0;36msafe_sparse_dot\u001b[0;34m(a, b, dense_output)\u001b[0m\n\u001b[1;32m    171\u001b[0m         \u001b[0;32mreturn\u001b[0m \u001b[0mret\u001b[0m\u001b[0;34m\u001b[0m\u001b[0;34m\u001b[0m\u001b[0m\n\u001b[1;32m    172\u001b[0m     \u001b[0;32melse\u001b[0m\u001b[0;34m:\u001b[0m\u001b[0;34m\u001b[0m\u001b[0;34m\u001b[0m\u001b[0m\n\u001b[0;32m--> 173\u001b[0;31m         \u001b[0;32mreturn\u001b[0m \u001b[0mnp\u001b[0m\u001b[0;34m.\u001b[0m\u001b[0mdot\u001b[0m\u001b[0;34m(\u001b[0m\u001b[0ma\u001b[0m\u001b[0;34m,\u001b[0m \u001b[0mb\u001b[0m\u001b[0;34m)\u001b[0m\u001b[0;34m\u001b[0m\u001b[0;34m\u001b[0m\u001b[0m\n\u001b[0m\u001b[1;32m    174\u001b[0m \u001b[0;34m\u001b[0m\u001b[0m\n\u001b[1;32m    175\u001b[0m \u001b[0;34m\u001b[0m\u001b[0m\n",
            "\u001b[0;31mValueError\u001b[0m: shapes (32370,5516) and (2302,50) not aligned: 5516 (dim 1) != 2302 (dim 0)"
          ]
        }
      ]
    },
    {
      "cell_type": "code",
      "metadata": {
        "id": "41lYy2IDn55P",
        "colab_type": "code",
        "outputId": "d1821a64-f076-40d5-8bf8-0739778cb3e0",
        "colab": {
          "base_uri": "https://localhost:8080/",
          "height": 50
        }
      },
      "source": [
        "print('MLP Train score:', mlp.score(X_train, y_train))\n",
        "print('MLP Test score:', mlp.score(X_test, y_test))"
      ],
      "execution_count": 0,
      "outputs": [
        {
          "output_type": "stream",
          "text": [
            "MLP Train score: 0.9475287745429926\n",
            "MLP Test score: 0.9402774915859605\n"
          ],
          "name": "stdout"
        }
      ]
    },
    {
      "cell_type": "code",
      "metadata": {
        "id": "DOmz_8W-tvcM",
        "colab_type": "code",
        "colab": {}
      },
      "source": [
        "Y.value_counts()/len(Y)"
      ],
      "execution_count": 0,
      "outputs": []
    },
    {
      "cell_type": "code",
      "metadata": {
        "id": "vTXdrzs1YKJS",
        "colab_type": "code",
        "outputId": "ea7cbb67-c12c-4ea2-f59f-2cde131976e7",
        "colab": {
          "base_uri": "https://localhost:8080/",
          "height": 357
        }
      },
      "source": [
        "from sklearn import ensemble\n",
        "from sklearn.model_selection import GridSearchCV\n",
        "\n",
        "# Initialize and fit the Gradient Boosting Classifier model\n",
        "\n",
        "param_test1 = {'n_estimators':[40,70,100]}\n",
        "gsearch1 = GridSearchCV(estimator = ensemble.GradientBoostingClassifier(learning_rate=0.1, min_samples_split=500,min_samples_leaf=50,max_depth=8,max_features='sqrt',subsample=0.8,random_state=10), \n",
        "param_grid = param_test1, scoring='accuracy', cv=3)\n",
        "gsearch1.fit(X_train, y_train)\n"
      ],
      "execution_count": 0,
      "outputs": [
        {
          "output_type": "error",
          "ename": "ValueError",
          "evalue": "ignored",
          "traceback": [
            "\u001b[0;31m---------------------------------------------------------------------------\u001b[0m",
            "\u001b[0;31mValueError\u001b[0m                                Traceback (most recent call last)",
            "\u001b[0;32m<ipython-input-44-bd969c308d00>\u001b[0m in \u001b[0;36m<module>\u001b[0;34m()\u001b[0m\n\u001b[1;32m      7\u001b[0m gsearch1 = GridSearchCV(estimator = ensemble.GradientBoostingClassifier(learning_rate=0.1, min_samples_split=500,min_samples_leaf=50,max_depth=8,max_features='sqrt',subsample=0.8,random_state=10), \n\u001b[1;32m      8\u001b[0m param_grid = param_test1, scoring='accuracy', cv=3)\n\u001b[0;32m----> 9\u001b[0;31m \u001b[0mgsearch1\u001b[0m\u001b[0;34m.\u001b[0m\u001b[0mfit\u001b[0m\u001b[0;34m(\u001b[0m\u001b[0mX_train\u001b[0m\u001b[0;34m,\u001b[0m \u001b[0my_train\u001b[0m\u001b[0;34m)\u001b[0m\u001b[0;34m\u001b[0m\u001b[0;34m\u001b[0m\u001b[0m\n\u001b[0m",
            "\u001b[0;32m/usr/local/lib/python3.6/dist-packages/sklearn/model_selection/_search.py\u001b[0m in \u001b[0;36mfit\u001b[0;34m(self, X, y, groups, **fit_params)\u001b[0m\n\u001b[1;32m    720\u001b[0m                 \u001b[0;32mreturn\u001b[0m \u001b[0mresults_container\u001b[0m\u001b[0;34m[\u001b[0m\u001b[0;36m0\u001b[0m\u001b[0;34m]\u001b[0m\u001b[0;34m\u001b[0m\u001b[0;34m\u001b[0m\u001b[0m\n\u001b[1;32m    721\u001b[0m \u001b[0;34m\u001b[0m\u001b[0m\n\u001b[0;32m--> 722\u001b[0;31m             \u001b[0mself\u001b[0m\u001b[0;34m.\u001b[0m\u001b[0m_run_search\u001b[0m\u001b[0;34m(\u001b[0m\u001b[0mevaluate_candidates\u001b[0m\u001b[0;34m)\u001b[0m\u001b[0;34m\u001b[0m\u001b[0;34m\u001b[0m\u001b[0m\n\u001b[0m\u001b[1;32m    723\u001b[0m \u001b[0;34m\u001b[0m\u001b[0m\n\u001b[1;32m    724\u001b[0m         \u001b[0mresults\u001b[0m \u001b[0;34m=\u001b[0m \u001b[0mresults_container\u001b[0m\u001b[0;34m[\u001b[0m\u001b[0;36m0\u001b[0m\u001b[0;34m]\u001b[0m\u001b[0;34m\u001b[0m\u001b[0;34m\u001b[0m\u001b[0m\n",
            "\u001b[0;32m/usr/local/lib/python3.6/dist-packages/sklearn/model_selection/_search.py\u001b[0m in \u001b[0;36m_run_search\u001b[0;34m(self, evaluate_candidates)\u001b[0m\n\u001b[1;32m   1189\u001b[0m     \u001b[0;32mdef\u001b[0m \u001b[0m_run_search\u001b[0m\u001b[0;34m(\u001b[0m\u001b[0mself\u001b[0m\u001b[0;34m,\u001b[0m \u001b[0mevaluate_candidates\u001b[0m\u001b[0;34m)\u001b[0m\u001b[0;34m:\u001b[0m\u001b[0;34m\u001b[0m\u001b[0;34m\u001b[0m\u001b[0m\n\u001b[1;32m   1190\u001b[0m         \u001b[0;34m\"\"\"Search all candidates in param_grid\"\"\"\u001b[0m\u001b[0;34m\u001b[0m\u001b[0;34m\u001b[0m\u001b[0m\n\u001b[0;32m-> 1191\u001b[0;31m         \u001b[0mevaluate_candidates\u001b[0m\u001b[0;34m(\u001b[0m\u001b[0mParameterGrid\u001b[0m\u001b[0;34m(\u001b[0m\u001b[0mself\u001b[0m\u001b[0;34m.\u001b[0m\u001b[0mparam_grid\u001b[0m\u001b[0;34m)\u001b[0m\u001b[0;34m)\u001b[0m\u001b[0;34m\u001b[0m\u001b[0;34m\u001b[0m\u001b[0m\n\u001b[0m\u001b[1;32m   1192\u001b[0m \u001b[0;34m\u001b[0m\u001b[0m\n\u001b[1;32m   1193\u001b[0m \u001b[0;34m\u001b[0m\u001b[0m\n",
            "\u001b[0;32m/usr/local/lib/python3.6/dist-packages/sklearn/model_selection/_search.py\u001b[0m in \u001b[0;36mevaluate_candidates\u001b[0;34m(candidate_params)\u001b[0m\n\u001b[1;32m    709\u001b[0m                                \u001b[0;32mfor\u001b[0m \u001b[0mparameters\u001b[0m\u001b[0;34m,\u001b[0m \u001b[0;34m(\u001b[0m\u001b[0mtrain\u001b[0m\u001b[0;34m,\u001b[0m \u001b[0mtest\u001b[0m\u001b[0;34m)\u001b[0m\u001b[0;34m\u001b[0m\u001b[0;34m\u001b[0m\u001b[0m\n\u001b[1;32m    710\u001b[0m                                in product(candidate_params,\n\u001b[0;32m--> 711\u001b[0;31m                                           cv.split(X, y, groups)))\n\u001b[0m\u001b[1;32m    712\u001b[0m \u001b[0;34m\u001b[0m\u001b[0m\n\u001b[1;32m    713\u001b[0m                 \u001b[0mall_candidate_params\u001b[0m\u001b[0;34m.\u001b[0m\u001b[0mextend\u001b[0m\u001b[0;34m(\u001b[0m\u001b[0mcandidate_params\u001b[0m\u001b[0;34m)\u001b[0m\u001b[0;34m\u001b[0m\u001b[0;34m\u001b[0m\u001b[0m\n",
            "\u001b[0;32m/usr/local/lib/python3.6/dist-packages/sklearn/externals/joblib/parallel.py\u001b[0m in \u001b[0;36m__call__\u001b[0;34m(self, iterable)\u001b[0m\n\u001b[1;32m    915\u001b[0m             \u001b[0;31m# remaining jobs.\u001b[0m\u001b[0;34m\u001b[0m\u001b[0;34m\u001b[0m\u001b[0;34m\u001b[0m\u001b[0m\n\u001b[1;32m    916\u001b[0m             \u001b[0mself\u001b[0m\u001b[0;34m.\u001b[0m\u001b[0m_iterating\u001b[0m \u001b[0;34m=\u001b[0m \u001b[0;32mFalse\u001b[0m\u001b[0;34m\u001b[0m\u001b[0;34m\u001b[0m\u001b[0m\n\u001b[0;32m--> 917\u001b[0;31m             \u001b[0;32mif\u001b[0m \u001b[0mself\u001b[0m\u001b[0;34m.\u001b[0m\u001b[0mdispatch_one_batch\u001b[0m\u001b[0;34m(\u001b[0m\u001b[0miterator\u001b[0m\u001b[0;34m)\u001b[0m\u001b[0;34m:\u001b[0m\u001b[0;34m\u001b[0m\u001b[0;34m\u001b[0m\u001b[0m\n\u001b[0m\u001b[1;32m    918\u001b[0m                 \u001b[0mself\u001b[0m\u001b[0;34m.\u001b[0m\u001b[0m_iterating\u001b[0m \u001b[0;34m=\u001b[0m \u001b[0mself\u001b[0m\u001b[0;34m.\u001b[0m\u001b[0m_original_iterator\u001b[0m \u001b[0;32mis\u001b[0m \u001b[0;32mnot\u001b[0m \u001b[0;32mNone\u001b[0m\u001b[0;34m\u001b[0m\u001b[0;34m\u001b[0m\u001b[0m\n\u001b[1;32m    919\u001b[0m \u001b[0;34m\u001b[0m\u001b[0m\n",
            "\u001b[0;32m/usr/local/lib/python3.6/dist-packages/sklearn/externals/joblib/parallel.py\u001b[0m in \u001b[0;36mdispatch_one_batch\u001b[0;34m(self, iterator)\u001b[0m\n\u001b[1;32m    757\u001b[0m                 \u001b[0;32mreturn\u001b[0m \u001b[0;32mFalse\u001b[0m\u001b[0;34m\u001b[0m\u001b[0;34m\u001b[0m\u001b[0m\n\u001b[1;32m    758\u001b[0m             \u001b[0;32melse\u001b[0m\u001b[0;34m:\u001b[0m\u001b[0;34m\u001b[0m\u001b[0;34m\u001b[0m\u001b[0m\n\u001b[0;32m--> 759\u001b[0;31m                 \u001b[0mself\u001b[0m\u001b[0;34m.\u001b[0m\u001b[0m_dispatch\u001b[0m\u001b[0;34m(\u001b[0m\u001b[0mtasks\u001b[0m\u001b[0;34m)\u001b[0m\u001b[0;34m\u001b[0m\u001b[0;34m\u001b[0m\u001b[0m\n\u001b[0m\u001b[1;32m    760\u001b[0m                 \u001b[0;32mreturn\u001b[0m \u001b[0;32mTrue\u001b[0m\u001b[0;34m\u001b[0m\u001b[0;34m\u001b[0m\u001b[0m\n\u001b[1;32m    761\u001b[0m \u001b[0;34m\u001b[0m\u001b[0m\n",
            "\u001b[0;32m/usr/local/lib/python3.6/dist-packages/sklearn/externals/joblib/parallel.py\u001b[0m in \u001b[0;36m_dispatch\u001b[0;34m(self, batch)\u001b[0m\n\u001b[1;32m    714\u001b[0m         \u001b[0;32mwith\u001b[0m \u001b[0mself\u001b[0m\u001b[0;34m.\u001b[0m\u001b[0m_lock\u001b[0m\u001b[0;34m:\u001b[0m\u001b[0;34m\u001b[0m\u001b[0;34m\u001b[0m\u001b[0m\n\u001b[1;32m    715\u001b[0m             \u001b[0mjob_idx\u001b[0m \u001b[0;34m=\u001b[0m \u001b[0mlen\u001b[0m\u001b[0;34m(\u001b[0m\u001b[0mself\u001b[0m\u001b[0;34m.\u001b[0m\u001b[0m_jobs\u001b[0m\u001b[0;34m)\u001b[0m\u001b[0;34m\u001b[0m\u001b[0;34m\u001b[0m\u001b[0m\n\u001b[0;32m--> 716\u001b[0;31m             \u001b[0mjob\u001b[0m \u001b[0;34m=\u001b[0m \u001b[0mself\u001b[0m\u001b[0;34m.\u001b[0m\u001b[0m_backend\u001b[0m\u001b[0;34m.\u001b[0m\u001b[0mapply_async\u001b[0m\u001b[0;34m(\u001b[0m\u001b[0mbatch\u001b[0m\u001b[0;34m,\u001b[0m \u001b[0mcallback\u001b[0m\u001b[0;34m=\u001b[0m\u001b[0mcb\u001b[0m\u001b[0;34m)\u001b[0m\u001b[0;34m\u001b[0m\u001b[0;34m\u001b[0m\u001b[0m\n\u001b[0m\u001b[1;32m    717\u001b[0m             \u001b[0;31m# A job can complete so quickly than its callback is\u001b[0m\u001b[0;34m\u001b[0m\u001b[0;34m\u001b[0m\u001b[0;34m\u001b[0m\u001b[0m\n\u001b[1;32m    718\u001b[0m             \u001b[0;31m# called before we get here, causing self._jobs to\u001b[0m\u001b[0;34m\u001b[0m\u001b[0;34m\u001b[0m\u001b[0;34m\u001b[0m\u001b[0m\n",
            "\u001b[0;32m/usr/local/lib/python3.6/dist-packages/sklearn/externals/joblib/_parallel_backends.py\u001b[0m in \u001b[0;36mapply_async\u001b[0;34m(self, func, callback)\u001b[0m\n\u001b[1;32m    180\u001b[0m     \u001b[0;32mdef\u001b[0m \u001b[0mapply_async\u001b[0m\u001b[0;34m(\u001b[0m\u001b[0mself\u001b[0m\u001b[0;34m,\u001b[0m \u001b[0mfunc\u001b[0m\u001b[0;34m,\u001b[0m \u001b[0mcallback\u001b[0m\u001b[0;34m=\u001b[0m\u001b[0;32mNone\u001b[0m\u001b[0;34m)\u001b[0m\u001b[0;34m:\u001b[0m\u001b[0;34m\u001b[0m\u001b[0;34m\u001b[0m\u001b[0m\n\u001b[1;32m    181\u001b[0m         \u001b[0;34m\"\"\"Schedule a func to be run\"\"\"\u001b[0m\u001b[0;34m\u001b[0m\u001b[0;34m\u001b[0m\u001b[0m\n\u001b[0;32m--> 182\u001b[0;31m         \u001b[0mresult\u001b[0m \u001b[0;34m=\u001b[0m \u001b[0mImmediateResult\u001b[0m\u001b[0;34m(\u001b[0m\u001b[0mfunc\u001b[0m\u001b[0;34m)\u001b[0m\u001b[0;34m\u001b[0m\u001b[0;34m\u001b[0m\u001b[0m\n\u001b[0m\u001b[1;32m    183\u001b[0m         \u001b[0;32mif\u001b[0m \u001b[0mcallback\u001b[0m\u001b[0;34m:\u001b[0m\u001b[0;34m\u001b[0m\u001b[0;34m\u001b[0m\u001b[0m\n\u001b[1;32m    184\u001b[0m             \u001b[0mcallback\u001b[0m\u001b[0;34m(\u001b[0m\u001b[0mresult\u001b[0m\u001b[0;34m)\u001b[0m\u001b[0;34m\u001b[0m\u001b[0;34m\u001b[0m\u001b[0m\n",
            "\u001b[0;32m/usr/local/lib/python3.6/dist-packages/sklearn/externals/joblib/_parallel_backends.py\u001b[0m in \u001b[0;36m__init__\u001b[0;34m(self, batch)\u001b[0m\n\u001b[1;32m    547\u001b[0m         \u001b[0;31m# Don't delay the application, to avoid keeping the input\u001b[0m\u001b[0;34m\u001b[0m\u001b[0;34m\u001b[0m\u001b[0;34m\u001b[0m\u001b[0m\n\u001b[1;32m    548\u001b[0m         \u001b[0;31m# arguments in memory\u001b[0m\u001b[0;34m\u001b[0m\u001b[0;34m\u001b[0m\u001b[0;34m\u001b[0m\u001b[0m\n\u001b[0;32m--> 549\u001b[0;31m         \u001b[0mself\u001b[0m\u001b[0;34m.\u001b[0m\u001b[0mresults\u001b[0m \u001b[0;34m=\u001b[0m \u001b[0mbatch\u001b[0m\u001b[0;34m(\u001b[0m\u001b[0;34m)\u001b[0m\u001b[0;34m\u001b[0m\u001b[0;34m\u001b[0m\u001b[0m\n\u001b[0m\u001b[1;32m    550\u001b[0m \u001b[0;34m\u001b[0m\u001b[0m\n\u001b[1;32m    551\u001b[0m     \u001b[0;32mdef\u001b[0m \u001b[0mget\u001b[0m\u001b[0;34m(\u001b[0m\u001b[0mself\u001b[0m\u001b[0;34m)\u001b[0m\u001b[0;34m:\u001b[0m\u001b[0;34m\u001b[0m\u001b[0;34m\u001b[0m\u001b[0m\n",
            "\u001b[0;32m/usr/local/lib/python3.6/dist-packages/sklearn/externals/joblib/parallel.py\u001b[0m in \u001b[0;36m__call__\u001b[0;34m(self)\u001b[0m\n\u001b[1;32m    223\u001b[0m         \u001b[0;32mwith\u001b[0m \u001b[0mparallel_backend\u001b[0m\u001b[0;34m(\u001b[0m\u001b[0mself\u001b[0m\u001b[0;34m.\u001b[0m\u001b[0m_backend\u001b[0m\u001b[0;34m,\u001b[0m \u001b[0mn_jobs\u001b[0m\u001b[0;34m=\u001b[0m\u001b[0mself\u001b[0m\u001b[0;34m.\u001b[0m\u001b[0m_n_jobs\u001b[0m\u001b[0;34m)\u001b[0m\u001b[0;34m:\u001b[0m\u001b[0;34m\u001b[0m\u001b[0;34m\u001b[0m\u001b[0m\n\u001b[1;32m    224\u001b[0m             return [func(*args, **kwargs)\n\u001b[0;32m--> 225\u001b[0;31m                     for func, args, kwargs in self.items]\n\u001b[0m\u001b[1;32m    226\u001b[0m \u001b[0;34m\u001b[0m\u001b[0m\n\u001b[1;32m    227\u001b[0m     \u001b[0;32mdef\u001b[0m \u001b[0m__len__\u001b[0m\u001b[0;34m(\u001b[0m\u001b[0mself\u001b[0m\u001b[0;34m)\u001b[0m\u001b[0;34m:\u001b[0m\u001b[0;34m\u001b[0m\u001b[0;34m\u001b[0m\u001b[0m\n",
            "\u001b[0;32m/usr/local/lib/python3.6/dist-packages/sklearn/externals/joblib/parallel.py\u001b[0m in \u001b[0;36m<listcomp>\u001b[0;34m(.0)\u001b[0m\n\u001b[1;32m    223\u001b[0m         \u001b[0;32mwith\u001b[0m \u001b[0mparallel_backend\u001b[0m\u001b[0;34m(\u001b[0m\u001b[0mself\u001b[0m\u001b[0;34m.\u001b[0m\u001b[0m_backend\u001b[0m\u001b[0;34m,\u001b[0m \u001b[0mn_jobs\u001b[0m\u001b[0;34m=\u001b[0m\u001b[0mself\u001b[0m\u001b[0;34m.\u001b[0m\u001b[0m_n_jobs\u001b[0m\u001b[0;34m)\u001b[0m\u001b[0;34m:\u001b[0m\u001b[0;34m\u001b[0m\u001b[0;34m\u001b[0m\u001b[0m\n\u001b[1;32m    224\u001b[0m             return [func(*args, **kwargs)\n\u001b[0;32m--> 225\u001b[0;31m                     for func, args, kwargs in self.items]\n\u001b[0m\u001b[1;32m    226\u001b[0m \u001b[0;34m\u001b[0m\u001b[0m\n\u001b[1;32m    227\u001b[0m     \u001b[0;32mdef\u001b[0m \u001b[0m__len__\u001b[0m\u001b[0;34m(\u001b[0m\u001b[0mself\u001b[0m\u001b[0;34m)\u001b[0m\u001b[0;34m:\u001b[0m\u001b[0;34m\u001b[0m\u001b[0;34m\u001b[0m\u001b[0m\n",
            "\u001b[0;32m/usr/local/lib/python3.6/dist-packages/sklearn/model_selection/_validation.py\u001b[0m in \u001b[0;36m_fit_and_score\u001b[0;34m(estimator, X, y, scorer, train, test, verbose, parameters, fit_params, return_train_score, return_parameters, return_n_test_samples, return_times, return_estimator, error_score)\u001b[0m\n\u001b[1;32m    526\u001b[0m             \u001b[0mestimator\u001b[0m\u001b[0;34m.\u001b[0m\u001b[0mfit\u001b[0m\u001b[0;34m(\u001b[0m\u001b[0mX_train\u001b[0m\u001b[0;34m,\u001b[0m \u001b[0;34m**\u001b[0m\u001b[0mfit_params\u001b[0m\u001b[0;34m)\u001b[0m\u001b[0;34m\u001b[0m\u001b[0;34m\u001b[0m\u001b[0m\n\u001b[1;32m    527\u001b[0m         \u001b[0;32melse\u001b[0m\u001b[0;34m:\u001b[0m\u001b[0;34m\u001b[0m\u001b[0;34m\u001b[0m\u001b[0m\n\u001b[0;32m--> 528\u001b[0;31m             \u001b[0mestimator\u001b[0m\u001b[0;34m.\u001b[0m\u001b[0mfit\u001b[0m\u001b[0;34m(\u001b[0m\u001b[0mX_train\u001b[0m\u001b[0;34m,\u001b[0m \u001b[0my_train\u001b[0m\u001b[0;34m,\u001b[0m \u001b[0;34m**\u001b[0m\u001b[0mfit_params\u001b[0m\u001b[0;34m)\u001b[0m\u001b[0;34m\u001b[0m\u001b[0;34m\u001b[0m\u001b[0m\n\u001b[0m\u001b[1;32m    529\u001b[0m \u001b[0;34m\u001b[0m\u001b[0m\n\u001b[1;32m    530\u001b[0m     \u001b[0;32mexcept\u001b[0m \u001b[0mException\u001b[0m \u001b[0;32mas\u001b[0m \u001b[0me\u001b[0m\u001b[0;34m:\u001b[0m\u001b[0;34m\u001b[0m\u001b[0;34m\u001b[0m\u001b[0m\n",
            "\u001b[0;32m/usr/local/lib/python3.6/dist-packages/sklearn/ensemble/gradient_boosting.py\u001b[0m in \u001b[0;36mfit\u001b[0;34m(self, X, y, sample_weight, monitor)\u001b[0m\n\u001b[1;32m   1393\u001b[0m \u001b[0;34m\u001b[0m\u001b[0m\n\u001b[1;32m   1394\u001b[0m         \u001b[0;31m# Check input\u001b[0m\u001b[0;34m\u001b[0m\u001b[0;34m\u001b[0m\u001b[0;34m\u001b[0m\u001b[0m\n\u001b[0;32m-> 1395\u001b[0;31m         \u001b[0mX\u001b[0m\u001b[0;34m,\u001b[0m \u001b[0my\u001b[0m \u001b[0;34m=\u001b[0m \u001b[0mcheck_X_y\u001b[0m\u001b[0;34m(\u001b[0m\u001b[0mX\u001b[0m\u001b[0;34m,\u001b[0m \u001b[0my\u001b[0m\u001b[0;34m,\u001b[0m \u001b[0maccept_sparse\u001b[0m\u001b[0;34m=\u001b[0m\u001b[0;34m[\u001b[0m\u001b[0;34m'csr'\u001b[0m\u001b[0;34m,\u001b[0m \u001b[0;34m'csc'\u001b[0m\u001b[0;34m,\u001b[0m \u001b[0;34m'coo'\u001b[0m\u001b[0;34m]\u001b[0m\u001b[0;34m,\u001b[0m \u001b[0mdtype\u001b[0m\u001b[0;34m=\u001b[0m\u001b[0mDTYPE\u001b[0m\u001b[0;34m)\u001b[0m\u001b[0;34m\u001b[0m\u001b[0;34m\u001b[0m\u001b[0m\n\u001b[0m\u001b[1;32m   1396\u001b[0m         \u001b[0mn_samples\u001b[0m\u001b[0;34m,\u001b[0m \u001b[0mself\u001b[0m\u001b[0;34m.\u001b[0m\u001b[0mn_features_\u001b[0m \u001b[0;34m=\u001b[0m \u001b[0mX\u001b[0m\u001b[0;34m.\u001b[0m\u001b[0mshape\u001b[0m\u001b[0;34m\u001b[0m\u001b[0;34m\u001b[0m\u001b[0m\n\u001b[1;32m   1397\u001b[0m         \u001b[0;32mif\u001b[0m \u001b[0msample_weight\u001b[0m \u001b[0;32mis\u001b[0m \u001b[0;32mNone\u001b[0m\u001b[0;34m:\u001b[0m\u001b[0;34m\u001b[0m\u001b[0;34m\u001b[0m\u001b[0m\n",
            "\u001b[0;32m/usr/local/lib/python3.6/dist-packages/sklearn/utils/validation.py\u001b[0m in \u001b[0;36mcheck_X_y\u001b[0;34m(X, y, accept_sparse, accept_large_sparse, dtype, order, copy, force_all_finite, ensure_2d, allow_nd, multi_output, ensure_min_samples, ensure_min_features, y_numeric, warn_on_dtype, estimator)\u001b[0m\n\u001b[1;32m    754\u001b[0m                     \u001b[0mensure_min_features\u001b[0m\u001b[0;34m=\u001b[0m\u001b[0mensure_min_features\u001b[0m\u001b[0;34m,\u001b[0m\u001b[0;34m\u001b[0m\u001b[0;34m\u001b[0m\u001b[0m\n\u001b[1;32m    755\u001b[0m                     \u001b[0mwarn_on_dtype\u001b[0m\u001b[0;34m=\u001b[0m\u001b[0mwarn_on_dtype\u001b[0m\u001b[0;34m,\u001b[0m\u001b[0;34m\u001b[0m\u001b[0;34m\u001b[0m\u001b[0m\n\u001b[0;32m--> 756\u001b[0;31m                     estimator=estimator)\n\u001b[0m\u001b[1;32m    757\u001b[0m     \u001b[0;32mif\u001b[0m \u001b[0mmulti_output\u001b[0m\u001b[0;34m:\u001b[0m\u001b[0;34m\u001b[0m\u001b[0;34m\u001b[0m\u001b[0m\n\u001b[1;32m    758\u001b[0m         y = check_array(y, 'csr', force_all_finite=True, ensure_2d=False,\n",
            "\u001b[0;32m/usr/local/lib/python3.6/dist-packages/sklearn/utils/validation.py\u001b[0m in \u001b[0;36mcheck_array\u001b[0;34m(array, accept_sparse, accept_large_sparse, dtype, order, copy, force_all_finite, ensure_2d, allow_nd, ensure_min_samples, ensure_min_features, warn_on_dtype, estimator)\u001b[0m\n\u001b[1;32m    571\u001b[0m         \u001b[0;32mif\u001b[0m \u001b[0mforce_all_finite\u001b[0m\u001b[0;34m:\u001b[0m\u001b[0;34m\u001b[0m\u001b[0;34m\u001b[0m\u001b[0m\n\u001b[1;32m    572\u001b[0m             _assert_all_finite(array,\n\u001b[0;32m--> 573\u001b[0;31m                                allow_nan=force_all_finite == 'allow-nan')\n\u001b[0m\u001b[1;32m    574\u001b[0m \u001b[0;34m\u001b[0m\u001b[0m\n\u001b[1;32m    575\u001b[0m     \u001b[0mshape_repr\u001b[0m \u001b[0;34m=\u001b[0m \u001b[0m_shape_repr\u001b[0m\u001b[0;34m(\u001b[0m\u001b[0marray\u001b[0m\u001b[0;34m.\u001b[0m\u001b[0mshape\u001b[0m\u001b[0;34m)\u001b[0m\u001b[0;34m\u001b[0m\u001b[0;34m\u001b[0m\u001b[0m\n",
            "\u001b[0;32m/usr/local/lib/python3.6/dist-packages/sklearn/utils/validation.py\u001b[0m in \u001b[0;36m_assert_all_finite\u001b[0;34m(X, allow_nan)\u001b[0m\n\u001b[1;32m     54\u001b[0m                 not allow_nan and not np.isfinite(X).all()):\n\u001b[1;32m     55\u001b[0m             \u001b[0mtype_err\u001b[0m \u001b[0;34m=\u001b[0m \u001b[0;34m'infinity'\u001b[0m \u001b[0;32mif\u001b[0m \u001b[0mallow_nan\u001b[0m \u001b[0;32melse\u001b[0m \u001b[0;34m'NaN, infinity'\u001b[0m\u001b[0;34m\u001b[0m\u001b[0;34m\u001b[0m\u001b[0m\n\u001b[0;32m---> 56\u001b[0;31m             \u001b[0;32mraise\u001b[0m \u001b[0mValueError\u001b[0m\u001b[0;34m(\u001b[0m\u001b[0mmsg_err\u001b[0m\u001b[0;34m.\u001b[0m\u001b[0mformat\u001b[0m\u001b[0;34m(\u001b[0m\u001b[0mtype_err\u001b[0m\u001b[0;34m,\u001b[0m \u001b[0mX\u001b[0m\u001b[0;34m.\u001b[0m\u001b[0mdtype\u001b[0m\u001b[0;34m)\u001b[0m\u001b[0;34m)\u001b[0m\u001b[0;34m\u001b[0m\u001b[0;34m\u001b[0m\u001b[0m\n\u001b[0m\u001b[1;32m     57\u001b[0m \u001b[0;34m\u001b[0m\u001b[0m\n\u001b[1;32m     58\u001b[0m \u001b[0;34m\u001b[0m\u001b[0m\n",
            "\u001b[0;31mValueError\u001b[0m: Input contains NaN, infinity or a value too large for dtype('float32')."
          ]
        }
      ]
    },
    {
      "cell_type": "code",
      "metadata": {
        "id": "N2BbttNUeKyU",
        "colab_type": "code",
        "outputId": "a943c168-1095-46bc-896a-f9eed62e9fb8",
        "colab": {
          "base_uri": "https://localhost:8080/",
          "height": 121
        }
      },
      "source": [
        "gsearch1.cv_results_['mean_train_score'], gsearch1.best_params_, gsearch1.best_score_"
      ],
      "execution_count": 0,
      "outputs": [
        {
          "output_type": "stream",
          "text": [
            "/usr/local/lib/python3.6/dist-packages/sklearn/utils/deprecation.py:125: FutureWarning: You are accessing a training score ('mean_train_score'), which will not be available by default any more in 0.21. If you need training scores, please set return_train_score=True\n",
            "  warnings.warn(*warn_args, **warn_kwargs)\n"
          ],
          "name": "stderr"
        },
        {
          "output_type": "execute_result",
          "data": {
            "text/plain": [
              "(array([0.75794801, 0.77874503, 0.78416145]),\n",
              " {'n_estimators': 100},\n",
              " 0.7821965794354008)"
            ]
          },
          "metadata": {
            "tags": []
          },
          "execution_count": 20
        }
      ]
    },
    {
      "cell_type": "code",
      "metadata": {
        "id": "jRsGFjgWwM0Z",
        "colab_type": "code",
        "outputId": "ebd8ba79-3fb7-4d35-effd-daec05cc5fd4",
        "colab": {
          "base_uri": "https://localhost:8080/",
          "height": 34
        }
      },
      "source": [
        "\n",
        "from sklearn import ensemble\n",
        "from sklearn.model_selection import cross_val_score\n",
        "\n",
        "rfc = ensemble.RandomForestClassifier()\n",
        "\n",
        "rfc.fit(X_train, y_train)\n",
        "\n",
        "y_pred = rfc.predict(X_test)\n",
        "\n",
        "print(rfc.score(X_test, y_test))"
      ],
      "execution_count": 0,
      "outputs": [
        {
          "output_type": "stream",
          "text": [
            "0.9445940347970174\n"
          ],
          "name": "stdout"
        }
      ]
    },
    {
      "cell_type": "markdown",
      "metadata": {
        "id": "oTvDeiIsi83p",
        "colab_type": "text"
      },
      "source": [
        "## Conclusion\n",
        "Including artists as a feature drastically improves the performance of our models.  For MLP specifically, accuracy goes up from 68% to 94%.  This makes a lot of sense as who the artist is should be very informative in the medium that they work in, and thus the department that the artwork would be classified in.\n",
        "<br>\n",
        "<br>\n",
        "Random Forest model performs very well (93% accuracy, 94% weighted F1 score) and very fast.  Gradient Boosting surprisingly did not perform as well, with an accuracy of 78%.  We could probably spend a lot more time tuning the parameters to achieve a better score.  The MLP model performed best at 95% accuracy and 94% weighted F1 score, but was excessively slow.  Even with a single hidden layer of 50 neurons, smaller than the default of 100, and a reduced number of iterations (100 instead of 200), fitting the model was painfully slow.  Adding a layer was out of the question, as was parameter tuning.  Thus, unless you have a lot of computational resources to expend, I would sacrifice a few percentage points of accuracy for a faster model, aka Random forest. "
      ]
    }
  ]
}